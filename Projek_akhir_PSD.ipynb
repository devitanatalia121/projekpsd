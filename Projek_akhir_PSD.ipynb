{
  "nbformat": 4,
  "nbformat_minor": 0,
  "metadata": {
    "colab": {
      "name": "Projek akhir PSD.ipynb",
      "provenance": [],
      "collapsed_sections": []
    },
    "kernelspec": {
      "name": "python3",
      "display_name": "Python 3"
    },
    "language_info": {
      "name": "python"
    }
  },
  "cells": [
    {
      "cell_type": "markdown",
      "source": [
        "Klasifikasi Tingkat Kecemasan Para Siswa Menggunakan Metode KNN"
      ],
      "metadata": {
        "id": "2sdujZ1XTisH"
      }
    },
    {
      "cell_type": "markdown",
      "metadata": {
        "id": "UTFPrCwUF4JJ"
      },
      "source": [
        "# Import Libraries"
      ]
    },
    {
      "cell_type": "code",
      "metadata": {
        "id": "TSmmJeC9FMlV"
      },
      "source": [
        "# EDA\n",
        "import pandas as pd\n",
        "import numpy as np\n",
        "import matplotlib.pyplot as plt\n",
        "import seaborn as sns\n",
        "from numpy import std\n",
        "from numpy import mean\n",
        "\n",
        "# Data Modelling\n",
        "from sklearn.neighbors import KNeighborsClassifier\n",
        "from sklearn.model_selection import train_test_split,GridSearchCV\n",
        "from sklearn.metrics import classification_report,confusion_matrix\n",
        "from sklearn.metrics import confusion_matrix\n",
        "from sklearn import svm\n",
        "from sklearn.linear_model import LogisticRegression\n",
        "from sklearn.model_selection import cross_val_score\n",
        "from sklearn.model_selection import KFold\n",
        "from sklearn.model_selection import LeaveOneOut\n",
        "from matplotlib import pyplot"
      ],
      "execution_count": null,
      "outputs": []
    },
    {
      "cell_type": "markdown",
      "metadata": {
        "id": "vnFBpOpgFef5"
      },
      "source": [
        "# Load Dataset"
      ]
    },
    {
      "cell_type": "code",
      "metadata": {
        "id": "-G_A-zlWFUu_",
        "colab": {
          "base_uri": "https://localhost:8080/"
        },
        "outputId": "8b0a4a11-cf4b-4e69-9e54-3625c7a77f07"
      },
      "source": [
        "from google.colab import drive\n",
        "drive.mount('/content/gdrive/')\n",
        "\n",
        "df = pd.read_csv('/content/gdrive/My Drive/dataset/Social_Anxiety_Survey_Master.csv')"
      ],
      "execution_count": null,
      "outputs": [
        {
          "output_type": "stream",
          "name": "stdout",
          "text": [
            "Drive already mounted at /content/gdrive/; to attempt to forcibly remount, call drive.mount(\"/content/gdrive/\", force_remount=True).\n"
          ]
        }
      ]
    },
    {
      "cell_type": "code",
      "source": [
        "#df = pd.read_csv('/content/Social_Anxiety_Survey_Master.csv')"
      ],
      "metadata": {
        "id": "ETQr0e4Lq1tb"
      },
      "execution_count": null,
      "outputs": []
    },
    {
      "cell_type": "code",
      "metadata": {
        "colab": {
          "base_uri": "https://localhost:8080/",
          "height": 206
        },
        "id": "pUb4M6CYFjmV",
        "outputId": "91d9907e-3182-4319-9173-a270a995a134"
      },
      "source": [
        "df.head()"
      ],
      "execution_count": null,
      "outputs": [
        {
          "output_type": "execute_result",
          "data": {
            "text/html": [
              "\n",
              "  <div id=\"df-97240859-faea-48c6-bcd6-0683d02154d0\">\n",
              "    <div class=\"colab-df-container\">\n",
              "      <div>\n",
              "<style scoped>\n",
              "    .dataframe tbody tr th:only-of-type {\n",
              "        vertical-align: middle;\n",
              "    }\n",
              "\n",
              "    .dataframe tbody tr th {\n",
              "        vertical-align: top;\n",
              "    }\n",
              "\n",
              "    .dataframe thead th {\n",
              "        text-align: right;\n",
              "    }\n",
              "</style>\n",
              "<table border=\"1\" class=\"dataframe\">\n",
              "  <thead>\n",
              "    <tr style=\"text-align: right;\">\n",
              "      <th></th>\n",
              "      <th>Timestamp</th>\n",
              "      <th>Gender</th>\n",
              "      <th>Student</th>\n",
              "      <th>Age</th>\n",
              "      <th>Marital</th>\n",
              "      <th>Q1</th>\n",
              "      <th>Q2</th>\n",
              "      <th>Q3</th>\n",
              "      <th>Q4</th>\n",
              "      <th>Q5</th>\n",
              "      <th>Q6</th>\n",
              "      <th>Q7</th>\n",
              "    </tr>\n",
              "  </thead>\n",
              "  <tbody>\n",
              "    <tr>\n",
              "      <th>0</th>\n",
              "      <td>12/12/2019 2:06</td>\n",
              "      <td>Female</td>\n",
              "      <td>Yes</td>\n",
              "      <td>21 - 30</td>\n",
              "      <td>Single</td>\n",
              "      <td>Less than 4 hours per day</td>\n",
              "      <td>3</td>\n",
              "      <td>3</td>\n",
              "      <td>3</td>\n",
              "      <td>3</td>\n",
              "      <td>4</td>\n",
              "      <td>1</td>\n",
              "    </tr>\n",
              "    <tr>\n",
              "      <th>1</th>\n",
              "      <td>12/12/2019 21:41</td>\n",
              "      <td>Male</td>\n",
              "      <td>Yes</td>\n",
              "      <td>21 - 30</td>\n",
              "      <td>Single</td>\n",
              "      <td>Less than 2 hours per day</td>\n",
              "      <td>3</td>\n",
              "      <td>3</td>\n",
              "      <td>2</td>\n",
              "      <td>2</td>\n",
              "      <td>4</td>\n",
              "      <td>4</td>\n",
              "    </tr>\n",
              "    <tr>\n",
              "      <th>2</th>\n",
              "      <td>12/12/2019 21:42</td>\n",
              "      <td>Female</td>\n",
              "      <td>Yes</td>\n",
              "      <td>21 - 30</td>\n",
              "      <td>Single</td>\n",
              "      <td>4 hours and above per day</td>\n",
              "      <td>1</td>\n",
              "      <td>5</td>\n",
              "      <td>2</td>\n",
              "      <td>4</td>\n",
              "      <td>5</td>\n",
              "      <td>4</td>\n",
              "    </tr>\n",
              "    <tr>\n",
              "      <th>3</th>\n",
              "      <td>12/12/2019 21:43</td>\n",
              "      <td>Female</td>\n",
              "      <td>Yes</td>\n",
              "      <td>21 - 30</td>\n",
              "      <td>Single</td>\n",
              "      <td>Less than 1 hours per day</td>\n",
              "      <td>4</td>\n",
              "      <td>4</td>\n",
              "      <td>3</td>\n",
              "      <td>3</td>\n",
              "      <td>3</td>\n",
              "      <td>1</td>\n",
              "    </tr>\n",
              "    <tr>\n",
              "      <th>4</th>\n",
              "      <td>12/12/2019 21:43</td>\n",
              "      <td>Male</td>\n",
              "      <td>Yes</td>\n",
              "      <td>21 - 30</td>\n",
              "      <td>Single</td>\n",
              "      <td>Less than 1 hours per day</td>\n",
              "      <td>3</td>\n",
              "      <td>5</td>\n",
              "      <td>2</td>\n",
              "      <td>3</td>\n",
              "      <td>4</td>\n",
              "      <td>4</td>\n",
              "    </tr>\n",
              "  </tbody>\n",
              "</table>\n",
              "</div>\n",
              "      <button class=\"colab-df-convert\" onclick=\"convertToInteractive('df-97240859-faea-48c6-bcd6-0683d02154d0')\"\n",
              "              title=\"Convert this dataframe to an interactive table.\"\n",
              "              style=\"display:none;\">\n",
              "        \n",
              "  <svg xmlns=\"http://www.w3.org/2000/svg\" height=\"24px\"viewBox=\"0 0 24 24\"\n",
              "       width=\"24px\">\n",
              "    <path d=\"M0 0h24v24H0V0z\" fill=\"none\"/>\n",
              "    <path d=\"M18.56 5.44l.94 2.06.94-2.06 2.06-.94-2.06-.94-.94-2.06-.94 2.06-2.06.94zm-11 1L8.5 8.5l.94-2.06 2.06-.94-2.06-.94L8.5 2.5l-.94 2.06-2.06.94zm10 10l.94 2.06.94-2.06 2.06-.94-2.06-.94-.94-2.06-.94 2.06-2.06.94z\"/><path d=\"M17.41 7.96l-1.37-1.37c-.4-.4-.92-.59-1.43-.59-.52 0-1.04.2-1.43.59L10.3 9.45l-7.72 7.72c-.78.78-.78 2.05 0 2.83L4 21.41c.39.39.9.59 1.41.59.51 0 1.02-.2 1.41-.59l7.78-7.78 2.81-2.81c.8-.78.8-2.07 0-2.86zM5.41 20L4 18.59l7.72-7.72 1.47 1.35L5.41 20z\"/>\n",
              "  </svg>\n",
              "      </button>\n",
              "      \n",
              "  <style>\n",
              "    .colab-df-container {\n",
              "      display:flex;\n",
              "      flex-wrap:wrap;\n",
              "      gap: 12px;\n",
              "    }\n",
              "\n",
              "    .colab-df-convert {\n",
              "      background-color: #E8F0FE;\n",
              "      border: none;\n",
              "      border-radius: 50%;\n",
              "      cursor: pointer;\n",
              "      display: none;\n",
              "      fill: #1967D2;\n",
              "      height: 32px;\n",
              "      padding: 0 0 0 0;\n",
              "      width: 32px;\n",
              "    }\n",
              "\n",
              "    .colab-df-convert:hover {\n",
              "      background-color: #E2EBFA;\n",
              "      box-shadow: 0px 1px 2px rgba(60, 64, 67, 0.3), 0px 1px 3px 1px rgba(60, 64, 67, 0.15);\n",
              "      fill: #174EA6;\n",
              "    }\n",
              "\n",
              "    [theme=dark] .colab-df-convert {\n",
              "      background-color: #3B4455;\n",
              "      fill: #D2E3FC;\n",
              "    }\n",
              "\n",
              "    [theme=dark] .colab-df-convert:hover {\n",
              "      background-color: #434B5C;\n",
              "      box-shadow: 0px 1px 3px 1px rgba(0, 0, 0, 0.15);\n",
              "      filter: drop-shadow(0px 1px 2px rgba(0, 0, 0, 0.3));\n",
              "      fill: #FFFFFF;\n",
              "    }\n",
              "  </style>\n",
              "\n",
              "      <script>\n",
              "        const buttonEl =\n",
              "          document.querySelector('#df-97240859-faea-48c6-bcd6-0683d02154d0 button.colab-df-convert');\n",
              "        buttonEl.style.display =\n",
              "          google.colab.kernel.accessAllowed ? 'block' : 'none';\n",
              "\n",
              "        async function convertToInteractive(key) {\n",
              "          const element = document.querySelector('#df-97240859-faea-48c6-bcd6-0683d02154d0');\n",
              "          const dataTable =\n",
              "            await google.colab.kernel.invokeFunction('convertToInteractive',\n",
              "                                                     [key], {});\n",
              "          if (!dataTable) return;\n",
              "\n",
              "          const docLinkHtml = 'Like what you see? Visit the ' +\n",
              "            '<a target=\"_blank\" href=https://colab.research.google.com/notebooks/data_table.ipynb>data table notebook</a>'\n",
              "            + ' to learn more about interactive tables.';\n",
              "          element.innerHTML = '';\n",
              "          dataTable['output_type'] = 'display_data';\n",
              "          await google.colab.output.renderOutput(dataTable, element);\n",
              "          const docLink = document.createElement('div');\n",
              "          docLink.innerHTML = docLinkHtml;\n",
              "          element.appendChild(docLink);\n",
              "        }\n",
              "      </script>\n",
              "    </div>\n",
              "  </div>\n",
              "  "
            ],
            "text/plain": [
              "          Timestamp  Gender Student      Age Marital  ... Q3  Q4  Q5  Q6  Q7\n",
              "0   12/12/2019 2:06  Female     Yes  21 - 30  Single  ...  3   3   3   4   1\n",
              "1  12/12/2019 21:41    Male     Yes  21 - 30  Single  ...  3   2   2   4   4\n",
              "2  12/12/2019 21:42  Female     Yes  21 - 30  Single  ...  5   2   4   5   4\n",
              "3  12/12/2019 21:43  Female     Yes  21 - 30  Single  ...  4   3   3   3   1\n",
              "4  12/12/2019 21:43    Male     Yes  21 - 30  Single  ...  5   2   3   4   4\n",
              "\n",
              "[5 rows x 12 columns]"
            ]
          },
          "metadata": {},
          "execution_count": 168
        }
      ]
    },
    {
      "cell_type": "markdown",
      "metadata": {
        "id": "rxIwPYQ_FmrO"
      },
      "source": [
        "# Cek Data"
      ]
    },
    {
      "cell_type": "code",
      "metadata": {
        "colab": {
          "base_uri": "https://localhost:8080/",
          "height": 382
        },
        "id": "WCMofj9SFkqF",
        "outputId": "921409e4-de56-47c1-e952-a39e5c388798"
      },
      "source": [
        "display(df.info())\n",
        "print(df.shape)"
      ],
      "execution_count": null,
      "outputs": [
        {
          "output_type": "stream",
          "name": "stdout",
          "text": [
            "<class 'pandas.core.frame.DataFrame'>\n",
            "RangeIndex: 66 entries, 0 to 65\n",
            "Data columns (total 12 columns):\n",
            " #   Column     Non-Null Count  Dtype \n",
            "---  ------     --------------  ----- \n",
            " 0   Timestamp  66 non-null     object\n",
            " 1   Gender     66 non-null     object\n",
            " 2   Student    66 non-null     object\n",
            " 3   Age        66 non-null     object\n",
            " 4   Marital    66 non-null     object\n",
            " 5   Q1         66 non-null     object\n",
            " 6   Q2         66 non-null     int64 \n",
            " 7   Q3         66 non-null     int64 \n",
            " 8   Q4         66 non-null     int64 \n",
            " 9   Q5         66 non-null     int64 \n",
            " 10  Q6         66 non-null     int64 \n",
            " 11  Q7         66 non-null     int64 \n",
            "dtypes: int64(6), object(6)\n",
            "memory usage: 6.3+ KB\n"
          ]
        },
        {
          "output_type": "display_data",
          "data": {
            "text/plain": [
              "None"
            ]
          },
          "metadata": {}
        },
        {
          "output_type": "stream",
          "name": "stdout",
          "text": [
            "(66, 12)\n"
          ]
        }
      ]
    },
    {
      "cell_type": "markdown",
      "source": [
        "# Identifikasi Masalah"
      ],
      "metadata": {
        "id": "-LZwpgGaNSk4"
      }
    },
    {
      "cell_type": "markdown",
      "source": [
        "## Tujuan "
      ],
      "metadata": {
        "id": "CYmXa944NWlA"
      }
    },
    {
      "cell_type": "markdown",
      "source": [
        "Tujuan dari penelitian ini adalah memprediksi tingkat kecemasan dari murid.\n",
        "\n",
        "\n",
        "\n"
      ],
      "metadata": {
        "id": "94GTTFMVNf3r"
      }
    },
    {
      "cell_type": "markdown",
      "source": [
        "## Metode Analitik"
      ],
      "metadata": {
        "id": "IZx3o6mENaB-"
      }
    },
    {
      "cell_type": "markdown",
      "source": [
        "Metode Analitik yang dipakai adalah Analisis prediktif yaitu cabang dari analisis lanjutan yang digunakan untuk membuat prediksi mengenai kejadian akan terjadi atau prediksi akan sesuatu."
      ],
      "metadata": {
        "id": "eUbxzEVLN4As"
      }
    },
    {
      "cell_type": "markdown",
      "source": [
        "# Data Understanding"
      ],
      "metadata": {
        "id": "_B7hFEOsRw91"
      }
    },
    {
      "cell_type": "code",
      "source": [
        "df"
      ],
      "metadata": {
        "colab": {
          "base_uri": "https://localhost:8080/",
          "height": 424
        },
        "id": "xWyH9tAYSKkS",
        "outputId": "f8eaa992-17f4-4892-a63b-014da7814776"
      },
      "execution_count": null,
      "outputs": [
        {
          "output_type": "execute_result",
          "data": {
            "text/html": [
              "\n",
              "  <div id=\"df-78d953cc-c319-4eaf-9a87-c69e6cffb8ff\">\n",
              "    <div class=\"colab-df-container\">\n",
              "      <div>\n",
              "<style scoped>\n",
              "    .dataframe tbody tr th:only-of-type {\n",
              "        vertical-align: middle;\n",
              "    }\n",
              "\n",
              "    .dataframe tbody tr th {\n",
              "        vertical-align: top;\n",
              "    }\n",
              "\n",
              "    .dataframe thead th {\n",
              "        text-align: right;\n",
              "    }\n",
              "</style>\n",
              "<table border=\"1\" class=\"dataframe\">\n",
              "  <thead>\n",
              "    <tr style=\"text-align: right;\">\n",
              "      <th></th>\n",
              "      <th>Timestamp</th>\n",
              "      <th>Gender</th>\n",
              "      <th>Student</th>\n",
              "      <th>Age</th>\n",
              "      <th>Marital</th>\n",
              "      <th>Q1</th>\n",
              "      <th>Q2</th>\n",
              "      <th>Q3</th>\n",
              "      <th>Q4</th>\n",
              "      <th>Q5</th>\n",
              "      <th>Q6</th>\n",
              "      <th>Q7</th>\n",
              "    </tr>\n",
              "  </thead>\n",
              "  <tbody>\n",
              "    <tr>\n",
              "      <th>0</th>\n",
              "      <td>12/12/2019 2:06</td>\n",
              "      <td>Female</td>\n",
              "      <td>Yes</td>\n",
              "      <td>21 - 30</td>\n",
              "      <td>Single</td>\n",
              "      <td>Less than 4 hours per day</td>\n",
              "      <td>3</td>\n",
              "      <td>3</td>\n",
              "      <td>3</td>\n",
              "      <td>3</td>\n",
              "      <td>4</td>\n",
              "      <td>1</td>\n",
              "    </tr>\n",
              "    <tr>\n",
              "      <th>1</th>\n",
              "      <td>12/12/2019 21:41</td>\n",
              "      <td>Male</td>\n",
              "      <td>Yes</td>\n",
              "      <td>21 - 30</td>\n",
              "      <td>Single</td>\n",
              "      <td>Less than 2 hours per day</td>\n",
              "      <td>3</td>\n",
              "      <td>3</td>\n",
              "      <td>2</td>\n",
              "      <td>2</td>\n",
              "      <td>4</td>\n",
              "      <td>4</td>\n",
              "    </tr>\n",
              "    <tr>\n",
              "      <th>2</th>\n",
              "      <td>12/12/2019 21:42</td>\n",
              "      <td>Female</td>\n",
              "      <td>Yes</td>\n",
              "      <td>21 - 30</td>\n",
              "      <td>Single</td>\n",
              "      <td>4 hours and above per day</td>\n",
              "      <td>1</td>\n",
              "      <td>5</td>\n",
              "      <td>2</td>\n",
              "      <td>4</td>\n",
              "      <td>5</td>\n",
              "      <td>4</td>\n",
              "    </tr>\n",
              "    <tr>\n",
              "      <th>3</th>\n",
              "      <td>12/12/2019 21:43</td>\n",
              "      <td>Female</td>\n",
              "      <td>Yes</td>\n",
              "      <td>21 - 30</td>\n",
              "      <td>Single</td>\n",
              "      <td>Less than 1 hours per day</td>\n",
              "      <td>4</td>\n",
              "      <td>4</td>\n",
              "      <td>3</td>\n",
              "      <td>3</td>\n",
              "      <td>3</td>\n",
              "      <td>1</td>\n",
              "    </tr>\n",
              "    <tr>\n",
              "      <th>4</th>\n",
              "      <td>12/12/2019 21:43</td>\n",
              "      <td>Male</td>\n",
              "      <td>Yes</td>\n",
              "      <td>21 - 30</td>\n",
              "      <td>Single</td>\n",
              "      <td>Less than 1 hours per day</td>\n",
              "      <td>3</td>\n",
              "      <td>5</td>\n",
              "      <td>2</td>\n",
              "      <td>3</td>\n",
              "      <td>4</td>\n",
              "      <td>4</td>\n",
              "    </tr>\n",
              "    <tr>\n",
              "      <th>...</th>\n",
              "      <td>...</td>\n",
              "      <td>...</td>\n",
              "      <td>...</td>\n",
              "      <td>...</td>\n",
              "      <td>...</td>\n",
              "      <td>...</td>\n",
              "      <td>...</td>\n",
              "      <td>...</td>\n",
              "      <td>...</td>\n",
              "      <td>...</td>\n",
              "      <td>...</td>\n",
              "      <td>...</td>\n",
              "    </tr>\n",
              "    <tr>\n",
              "      <th>61</th>\n",
              "      <td>12/31/2019 16:11:56</td>\n",
              "      <td>Male</td>\n",
              "      <td>Yes</td>\n",
              "      <td>20 or below</td>\n",
              "      <td>Single</td>\n",
              "      <td>Less than 3 hours per day</td>\n",
              "      <td>4</td>\n",
              "      <td>5</td>\n",
              "      <td>4</td>\n",
              "      <td>5</td>\n",
              "      <td>4</td>\n",
              "      <td>2</td>\n",
              "    </tr>\n",
              "    <tr>\n",
              "      <th>62</th>\n",
              "      <td>12/31/2019 16:12:42</td>\n",
              "      <td>Male</td>\n",
              "      <td>Yes</td>\n",
              "      <td>20 or below</td>\n",
              "      <td>Single</td>\n",
              "      <td>Less than 4 hours per day</td>\n",
              "      <td>3</td>\n",
              "      <td>2</td>\n",
              "      <td>5</td>\n",
              "      <td>3</td>\n",
              "      <td>1</td>\n",
              "      <td>4</td>\n",
              "    </tr>\n",
              "    <tr>\n",
              "      <th>63</th>\n",
              "      <td>12/31/2019 21:23:06</td>\n",
              "      <td>Female</td>\n",
              "      <td>Yes</td>\n",
              "      <td>21 - 30</td>\n",
              "      <td>Single</td>\n",
              "      <td>4 hours and above per day</td>\n",
              "      <td>1</td>\n",
              "      <td>1</td>\n",
              "      <td>1</td>\n",
              "      <td>4</td>\n",
              "      <td>5</td>\n",
              "      <td>1</td>\n",
              "    </tr>\n",
              "    <tr>\n",
              "      <th>64</th>\n",
              "      <td>1/1/2020 15:15</td>\n",
              "      <td>Male</td>\n",
              "      <td>Yes</td>\n",
              "      <td>21 - 30</td>\n",
              "      <td>Single</td>\n",
              "      <td>Less than 3 hours per day</td>\n",
              "      <td>2</td>\n",
              "      <td>4</td>\n",
              "      <td>4</td>\n",
              "      <td>4</td>\n",
              "      <td>4</td>\n",
              "      <td>4</td>\n",
              "    </tr>\n",
              "    <tr>\n",
              "      <th>65</th>\n",
              "      <td>1/1/2020 16:15</td>\n",
              "      <td>Female</td>\n",
              "      <td>Yes</td>\n",
              "      <td>21 - 30</td>\n",
              "      <td>Married</td>\n",
              "      <td>Less than 1 hours per day</td>\n",
              "      <td>2</td>\n",
              "      <td>2</td>\n",
              "      <td>2</td>\n",
              "      <td>2</td>\n",
              "      <td>4</td>\n",
              "      <td>5</td>\n",
              "    </tr>\n",
              "  </tbody>\n",
              "</table>\n",
              "<p>66 rows × 12 columns</p>\n",
              "</div>\n",
              "      <button class=\"colab-df-convert\" onclick=\"convertToInteractive('df-78d953cc-c319-4eaf-9a87-c69e6cffb8ff')\"\n",
              "              title=\"Convert this dataframe to an interactive table.\"\n",
              "              style=\"display:none;\">\n",
              "        \n",
              "  <svg xmlns=\"http://www.w3.org/2000/svg\" height=\"24px\"viewBox=\"0 0 24 24\"\n",
              "       width=\"24px\">\n",
              "    <path d=\"M0 0h24v24H0V0z\" fill=\"none\"/>\n",
              "    <path d=\"M18.56 5.44l.94 2.06.94-2.06 2.06-.94-2.06-.94-.94-2.06-.94 2.06-2.06.94zm-11 1L8.5 8.5l.94-2.06 2.06-.94-2.06-.94L8.5 2.5l-.94 2.06-2.06.94zm10 10l.94 2.06.94-2.06 2.06-.94-2.06-.94-.94-2.06-.94 2.06-2.06.94z\"/><path d=\"M17.41 7.96l-1.37-1.37c-.4-.4-.92-.59-1.43-.59-.52 0-1.04.2-1.43.59L10.3 9.45l-7.72 7.72c-.78.78-.78 2.05 0 2.83L4 21.41c.39.39.9.59 1.41.59.51 0 1.02-.2 1.41-.59l7.78-7.78 2.81-2.81c.8-.78.8-2.07 0-2.86zM5.41 20L4 18.59l7.72-7.72 1.47 1.35L5.41 20z\"/>\n",
              "  </svg>\n",
              "      </button>\n",
              "      \n",
              "  <style>\n",
              "    .colab-df-container {\n",
              "      display:flex;\n",
              "      flex-wrap:wrap;\n",
              "      gap: 12px;\n",
              "    }\n",
              "\n",
              "    .colab-df-convert {\n",
              "      background-color: #E8F0FE;\n",
              "      border: none;\n",
              "      border-radius: 50%;\n",
              "      cursor: pointer;\n",
              "      display: none;\n",
              "      fill: #1967D2;\n",
              "      height: 32px;\n",
              "      padding: 0 0 0 0;\n",
              "      width: 32px;\n",
              "    }\n",
              "\n",
              "    .colab-df-convert:hover {\n",
              "      background-color: #E2EBFA;\n",
              "      box-shadow: 0px 1px 2px rgba(60, 64, 67, 0.3), 0px 1px 3px 1px rgba(60, 64, 67, 0.15);\n",
              "      fill: #174EA6;\n",
              "    }\n",
              "\n",
              "    [theme=dark] .colab-df-convert {\n",
              "      background-color: #3B4455;\n",
              "      fill: #D2E3FC;\n",
              "    }\n",
              "\n",
              "    [theme=dark] .colab-df-convert:hover {\n",
              "      background-color: #434B5C;\n",
              "      box-shadow: 0px 1px 3px 1px rgba(0, 0, 0, 0.15);\n",
              "      filter: drop-shadow(0px 1px 2px rgba(0, 0, 0, 0.3));\n",
              "      fill: #FFFFFF;\n",
              "    }\n",
              "  </style>\n",
              "\n",
              "      <script>\n",
              "        const buttonEl =\n",
              "          document.querySelector('#df-78d953cc-c319-4eaf-9a87-c69e6cffb8ff button.colab-df-convert');\n",
              "        buttonEl.style.display =\n",
              "          google.colab.kernel.accessAllowed ? 'block' : 'none';\n",
              "\n",
              "        async function convertToInteractive(key) {\n",
              "          const element = document.querySelector('#df-78d953cc-c319-4eaf-9a87-c69e6cffb8ff');\n",
              "          const dataTable =\n",
              "            await google.colab.kernel.invokeFunction('convertToInteractive',\n",
              "                                                     [key], {});\n",
              "          if (!dataTable) return;\n",
              "\n",
              "          const docLinkHtml = 'Like what you see? Visit the ' +\n",
              "            '<a target=\"_blank\" href=https://colab.research.google.com/notebooks/data_table.ipynb>data table notebook</a>'\n",
              "            + ' to learn more about interactive tables.';\n",
              "          element.innerHTML = '';\n",
              "          dataTable['output_type'] = 'display_data';\n",
              "          await google.colab.output.renderOutput(dataTable, element);\n",
              "          const docLink = document.createElement('div');\n",
              "          docLink.innerHTML = docLinkHtml;\n",
              "          element.appendChild(docLink);\n",
              "        }\n",
              "      </script>\n",
              "    </div>\n",
              "  </div>\n",
              "  "
            ],
            "text/plain": [
              "              Timestamp  Gender Student          Age  ... Q4 Q5  Q6  Q7\n",
              "0       12/12/2019 2:06  Female     Yes      21 - 30  ...  3  3   4   1\n",
              "1      12/12/2019 21:41    Male     Yes      21 - 30  ...  2  2   4   4\n",
              "2      12/12/2019 21:42  Female     Yes      21 - 30  ...  2  4   5   4\n",
              "3      12/12/2019 21:43  Female     Yes      21 - 30  ...  3  3   3   1\n",
              "4      12/12/2019 21:43    Male     Yes      21 - 30  ...  2  3   4   4\n",
              "..                  ...     ...     ...          ...  ... .. ..  ..  ..\n",
              "61  12/31/2019 16:11:56    Male     Yes  20 or below  ...  4  5   4   2\n",
              "62  12/31/2019 16:12:42    Male     Yes  20 or below  ...  5  3   1   4\n",
              "63  12/31/2019 21:23:06  Female     Yes      21 - 30  ...  1  4   5   1\n",
              "64       1/1/2020 15:15    Male     Yes      21 - 30  ...  4  4   4   4\n",
              "65       1/1/2020 16:15  Female     Yes      21 - 30  ...  2  2   4   5\n",
              "\n",
              "[66 rows x 12 columns]"
            ]
          },
          "metadata": {},
          "execution_count": 170
        }
      ]
    },
    {
      "cell_type": "markdown",
      "source": [
        "<br>Gender = Jenis kelamin dari murid\n",
        "<br>Student = Apakah termasuk murid atau tidak\n",
        "<br>Age = Umur dari murid\n",
        "<br>Marital = Status dari murid\n",
        "<br>Q1 = Berapa jam per hari yang Anda habiskan di media sosial?\n",
        "<br>Q2 = Bagaimana perasaan Anda menjadi pusat perhatian?\n",
        "<br>Q3 = Bekerja sambil diamati\n",
        "<br>Q4 = Berbicara tatap muka dengan seseorang yang tidak Anda kenal dengan baik\n",
        "<br>Q5 = Mengekspresikan ketidaksetujuan atau ketidaksetujuan kepada seseorang yang tidak Anda kenal dengan baik\n",
        "<br>Q6 = Apakah Anda sangat sadar akan tindakan Anda saat berada di lingkungan sosial karena Anda takut tindakan itu akan menyinggung seseorang atau Anda bisa ditolak?,\n",
        "<br>Q7 = Apakah Anda merasa cemas atau panik sebelum situasi sosial?\n",
        "\n"
      ],
      "metadata": {
        "id": "7cAvF-z1R0af"
      }
    },
    {
      "cell_type": "markdown",
      "metadata": {
        "id": "aoWw9XQjGXhN"
      },
      "source": [
        "# EDA"
      ]
    },
    {
      "cell_type": "markdown",
      "metadata": {
        "id": "dIGh3UudG-n5"
      },
      "source": [
        "## Gender"
      ]
    },
    {
      "cell_type": "code",
      "metadata": {
        "colab": {
          "base_uri": "https://localhost:8080/",
          "height": 520
        },
        "id": "Uy9VQXMHF8tH",
        "outputId": "2ff3f943-085e-4cfa-d886-125b97a2ae42"
      },
      "source": [
        "plt.figure(figsize = (15,8))\n",
        "sns.countplot(x = 'Gender', data = df);\n",
        "plt.title('Total Jumlah Masing-Masing Jenis Kelamin', fontdict = {'fontsize':15});\n",
        "plt.xlabel('Jenis Kelamin',fontdict={'fontsize': 15});\n",
        "plt.ylabel('Total',fontdict={'fontsize': 15});"
      ],
      "execution_count": null,
      "outputs": [
        {
          "output_type": "display_data",
          "data": {
            "image/png": "[encoded data removed]",
            "text/plain": [
              "<Figure size 1080x576 with 1 Axes>"
            ]
          },
          "metadata": {
            "needs_background": "light"
          }
        }
      ]
    },
    {
      "cell_type": "markdown",
      "source": [
        "Dari visualisasi diatas, dapat dilihat bahwa jenis kelamin perempuan lebih banyak dibandingkan dengan pria."
      ],
      "metadata": {
        "id": "VM5BEmh_7-ua"
      }
    },
    {
      "cell_type": "markdown",
      "metadata": {
        "id": "YZPlDZwRHDsZ"
      },
      "source": [
        "## Age"
      ]
    },
    {
      "cell_type": "code",
      "metadata": {
        "colab": {
          "base_uri": "https://localhost:8080/",
          "height": 520
        },
        "id": "gMEtL-1sGCMM",
        "outputId": "f531ae7d-d782-47da-be8e-16947e625b75"
      },
      "source": [
        "plt.figure(figsize = (15,8))\n",
        "sns.histplot(data = df, x = 'Age');\n",
        "plt.title('Total Persebaran Kategori Umur', fontdict = {'fontsize':15});\n",
        "plt.xlabel('Usia',fontdict={'fontsize': 15});\n",
        "plt.ylabel('Total',fontdict={'fontsize': 15});"
      ],
      "execution_count": null,
      "outputs": [
        {
          "output_type": "display_data",
          "data": {
            "image/png": "[encoded data removed]",
            "text/plain": [
              "<Figure size 1080x576 with 1 Axes>"
            ]
          },
          "metadata": {
            "needs_background": "light"
          }
        }
      ]
    },
    {
      "cell_type": "markdown",
      "source": [
        "Dari visualisasi diatas, dapat dilihat bahwa kelompok usia 21-30 adalah rentang usia dengan persebaran paling besar di antara kelompok umur yang lainnya."
      ],
      "metadata": {
        "id": "7b9wDfN48H09"
      }
    },
    {
      "cell_type": "markdown",
      "source": [
        "# Student"
      ],
      "metadata": {
        "id": "xJ5FfU6XBJgz"
      }
    },
    {
      "cell_type": "code",
      "source": [
        "plt.figure(figsize = (15,8))\n",
        "sns.histplot(data = df, x = 'Student');\n",
        "plt.title('Total Persebaran Siswa', fontdict = {'fontsize':15});\n",
        "plt.xlabel('Siswa',fontdict={'fontsize': 15});\n",
        "plt.ylabel('Total',fontdict={'fontsize': 15});"
      ],
      "metadata": {
        "colab": {
          "base_uri": "https://localhost:8080/",
          "height": 520
        },
        "id": "W_TuAwFUBI4t",
        "outputId": "857eaa44-1866-4cc1-c6b7-f7338a60d290"
      },
      "execution_count": null,
      "outputs": [
        {
          "output_type": "display_data",
          "data": {
            "image/png": "[encoded data removed]",
            "text/plain": [
              "<Figure size 1080x576 with 1 Axes>"
            ]
          },
          "metadata": {
            "needs_background": "light"
          }
        }
      ]
    },
    {
      "cell_type": "markdown",
      "source": [
        "Berdasarkan hasil visualisasi diatas, dapat dilihat bahwa populasi siswa lebih banyak dibandingkan dengan yang bukan siswa."
      ],
      "metadata": {
        "id": "gVuIXI5YBTYV"
      }
    },
    {
      "cell_type": "markdown",
      "metadata": {
        "id": "uW_G6B1uHE4x"
      },
      "source": [
        "## Marital"
      ]
    },
    {
      "cell_type": "code",
      "metadata": {
        "colab": {
          "base_uri": "https://localhost:8080/",
          "height": 520
        },
        "id": "8fozGlIRGfrY",
        "outputId": "ca8829ff-8bfc-4c6d-a4f4-39e0d0adaf1b"
      },
      "source": [
        "plt.figure(figsize = (15,8))\n",
        "sns.countplot(x = 'Marital', data = df);\n",
        "plt.title('Total Status Pernikahan',fontdict = {'fontsize':15});\n",
        "plt.xlabel('Pernikahan',fontdict={'fontsize': 15});"
      ],
      "execution_count": null,
      "outputs": [
        {
          "output_type": "display_data",
          "data": {
            "image/png": "[encoded data removed]",
            "text/plain": [
              "<Figure size 1080x576 with 1 Axes>"
            ]
          },
          "metadata": {
            "needs_background": "light"
          }
        }
      ]
    },
    {
      "cell_type": "markdown",
      "source": [
        "Dari visualisasi diatas, dapat dilihat bahwa lebih banyak individu yang belum menikah dibandingkan dengan yang telah menikah."
      ],
      "metadata": {
        "id": "DNV0V7_s8UG1"
      }
    },
    {
      "cell_type": "markdown",
      "metadata": {
        "id": "R826cunWHU4J"
      },
      "source": [
        "### Marital by Gender"
      ]
    },
    {
      "cell_type": "code",
      "metadata": {
        "colab": {
          "base_uri": "https://localhost:8080/",
          "height": 520
        },
        "id": "a9RWtft6HMHt",
        "outputId": "77a3f8bf-292d-4ac0-8828-bf37acea6148"
      },
      "source": [
        "plt.figure(figsize = (15,8))\n",
        "sns.countplot(x = 'Marital', data = df, hue = 'Gender');\n",
        "plt.title('Persebaran Status Pernikahan Berdasarkan Jenis Kelamin', fontdict = {'fontsize':15})\n",
        "plt.xlabel('Pernikahan',fontdict={'fontsize': 15});\n",
        "plt.ylabel('Total',fontdict={'fontsize': 15});"
      ],
      "execution_count": null,
      "outputs": [
        {
          "output_type": "display_data",
          "data": {
            "image/png": "[encoded data removed]",
            "text/plain": [
              "<Figure size 1080x576 with 1 Axes>"
            ]
          },
          "metadata": {
            "needs_background": "light"
          }
        }
      ]
    },
    {
      "cell_type": "markdown",
      "source": [
        "Melanjutkan visualisasi di atas, sekarang kita melakukan visualisasi status pernikahan berdasarkan jenis kelamin. Berdasarkan hasil visualisasi di atas, didapatkan bahwa untuk jenis kelamin wanita adalah yang terbanyak dibandingkan dengan laki-laki, baik yang belum maupun telah menikah."
      ],
      "metadata": {
        "id": "2e6Ty4i08czJ"
      }
    },
    {
      "cell_type": "markdown",
      "source": [
        "### Marital By Age"
      ],
      "metadata": {
        "id": "AsMwng4js3x6"
      }
    },
    {
      "cell_type": "code",
      "metadata": {
        "colab": {
          "base_uri": "https://localhost:8080/",
          "height": 520
        },
        "id": "vhM-4lDsHcaO",
        "outputId": "6fb561f9-6602-49e8-fb42-ba62c3cad052"
      },
      "source": [
        "plt.figure(figsize = (15,8))\n",
        "sns.countplot(x = 'Marital', data = df, hue = 'Age');\n",
        "plt.title('Persebaran Status Pernikahan Berdasarkan Usia Per Individu', fontdict = {'fontsize':15});\n",
        "plt.xlabel('Pernikahan',fontdict = {'fontsize':15});\n",
        "plt.ylabel('Total',fontdict = {'fontsize':15});"
      ],
      "execution_count": null,
      "outputs": [
        {
          "output_type": "display_data",
          "data": {
            "image/png": "[encoded data removed]",
            "text/plain": [
              "<Figure size 1080x576 with 1 Axes>"
            ]
          },
          "metadata": {
            "needs_background": "light"
          }
        }
      ]
    },
    {
      "cell_type": "markdown",
      "source": [
        "Melanjutkan visualisasi di atas, sekarang kita melakukan visualisasi status pernikahan berdasarkan kelompok usia. Berdasarkan hasil visualisasi di atas, didapatkan beberapa hal sebagai berikut:\n",
        "\n",
        "1. Kelompok usia 21-30 adalah kelompok usia terbanyak yang memiliki status belum menikah paling banyak. Sementara untuk kelompok usia 31 - 40 adalah kelompok usia yang memiliki status belum menikah terkecil.\n",
        "\n",
        "2. Tidak ada individu pada kelompok usia 20 atau ke bawah yang telah menikah dan individu yang telah menikah paling banyak terdapat pada kelompok usia 31 - 40."
      ],
      "metadata": {
        "id": "8goLYcqF81vd"
      }
    },
    {
      "cell_type": "markdown",
      "source": [
        "# Cek Korelasi"
      ],
      "metadata": {
        "id": "5l15ZhLsteZq"
      }
    },
    {
      "cell_type": "code",
      "source": [
        "plt.figure(figsize=(15,8));\n",
        "sns.heatmap(df.corr(), cmap = 'viridis_r',annot = True,linecolor='black',linewidths=2.5);\n",
        "plt.title('Korelasi Antar Kolom Data Numerikal', fontdict = {'fontsize':15});"
      ],
      "metadata": {
        "colab": {
          "base_uri": "https://localhost:8080/",
          "height": 501
        },
        "id": "xDNAqWLXDpYm",
        "outputId": "f5d0533d-c875-4822-c047-f14c383cd3d0"
      },
      "execution_count": null,
      "outputs": [
        {
          "output_type": "display_data",
          "data": {
            "image/png": "[encoded data removed]",
            "text/plain": [
              "<Figure size 1080x576 with 2 Axes>"
            ]
          },
          "metadata": {
            "needs_background": "light"
          }
        }
      ]
    },
    {
      "cell_type": "markdown",
      "source": [
        "# Data Pre-processing\n"
      ],
      "metadata": {
        "id": "yvmmmzWUxe8p"
      }
    },
    {
      "cell_type": "markdown",
      "source": [
        "## Kolom Q1_proc"
      ],
      "metadata": {
        "id": "KDWOlSCEzdcg"
      }
    },
    {
      "cell_type": "markdown",
      "source": [
        "Pada tahap ini, kolom Q1 akan dilakukan transformasi menjadi bentuk numerikal. Hal ini bertujuan dalam pembuatan kolom Total_Points nantinya."
      ],
      "metadata": {
        "id": "Yr6R6TYl90aq"
      }
    },
    {
      "cell_type": "code",
      "source": [
        "def maritals(marital):\n",
        "  if marital == 'Less than 1 hours per day':\n",
        "    return 1\n",
        "  elif marital == 'Less than 2 hours per day':\n",
        "    return 2\n",
        "  elif marital == 'Less than 3 hours per day':\n",
        "    return 3\n",
        "  elif marital == 'Less than 4 hours per day':\n",
        "    return 4\n",
        "  elif marital == '4 hours and above per day':\n",
        "    return 5\n",
        "  else :\n",
        "    return marital"
      ],
      "metadata": {
        "id": "ikWpnlG-xeQW"
      },
      "execution_count": null,
      "outputs": []
    },
    {
      "cell_type": "code",
      "source": [
        "# Apply ke kolom Q1\n",
        "df['Q1_proc'] = df['Q1'].apply(maritals)"
      ],
      "metadata": {
        "id": "8S4kjUzGzMRd"
      },
      "execution_count": null,
      "outputs": []
    },
    {
      "cell_type": "code",
      "source": [
        "# Cek Data\n",
        "df.head(25)"
      ],
      "metadata": {
        "colab": {
          "base_uri": "https://localhost:8080/",
          "height": 833
        },
        "id": "xseY-X3UyLWe",
        "outputId": "4baab6e2-1b12-4005-9965-2e94df2fa248"
      },
      "execution_count": null,
      "outputs": [
        {
          "output_type": "execute_result",
          "data": {
            "text/html": [
              "\n",
              "  <div id=\"df-14ecb6ec-c4cb-4cca-b715-b682d4315bb6\">\n",
              "    <div class=\"colab-df-container\">\n",
              "      <div>\n",
              "<style scoped>\n",
              "    .dataframe tbody tr th:only-of-type {\n",
              "        vertical-align: middle;\n",
              "    }\n",
              "\n",
              "    .dataframe tbody tr th {\n",
              "        vertical-align: top;\n",
              "    }\n",
              "\n",
              "    .dataframe thead th {\n",
              "        text-align: right;\n",
              "    }\n",
              "</style>\n",
              "<table border=\"1\" class=\"dataframe\">\n",
              "  <thead>\n",
              "    <tr style=\"text-align: right;\">\n",
              "      <th></th>\n",
              "      <th>Timestamp</th>\n",
              "      <th>Gender</th>\n",
              "      <th>Student</th>\n",
              "      <th>Age</th>\n",
              "      <th>Marital</th>\n",
              "      <th>Q1</th>\n",
              "      <th>Q2</th>\n",
              "      <th>Q3</th>\n",
              "      <th>Q4</th>\n",
              "      <th>Q5</th>\n",
              "      <th>Q6</th>\n",
              "      <th>Q7</th>\n",
              "      <th>Q1_proc</th>\n",
              "    </tr>\n",
              "  </thead>\n",
              "  <tbody>\n",
              "    <tr>\n",
              "      <th>0</th>\n",
              "      <td>12/12/2019 2:06</td>\n",
              "      <td>Female</td>\n",
              "      <td>Yes</td>\n",
              "      <td>21 - 30</td>\n",
              "      <td>Single</td>\n",
              "      <td>Less than 4 hours per day</td>\n",
              "      <td>3</td>\n",
              "      <td>3</td>\n",
              "      <td>3</td>\n",
              "      <td>3</td>\n",
              "      <td>4</td>\n",
              "      <td>1</td>\n",
              "      <td>4</td>\n",
              "    </tr>\n",
              "    <tr>\n",
              "      <th>1</th>\n",
              "      <td>12/12/2019 21:41</td>\n",
              "      <td>Male</td>\n",
              "      <td>Yes</td>\n",
              "      <td>21 - 30</td>\n",
              "      <td>Single</td>\n",
              "      <td>Less than 2 hours per day</td>\n",
              "      <td>3</td>\n",
              "      <td>3</td>\n",
              "      <td>2</td>\n",
              "      <td>2</td>\n",
              "      <td>4</td>\n",
              "      <td>4</td>\n",
              "      <td>2</td>\n",
              "    </tr>\n",
              "    <tr>\n",
              "      <th>2</th>\n",
              "      <td>12/12/2019 21:42</td>\n",
              "      <td>Female</td>\n",
              "      <td>Yes</td>\n",
              "      <td>21 - 30</td>\n",
              "      <td>Single</td>\n",
              "      <td>4 hours and above per day</td>\n",
              "      <td>1</td>\n",
              "      <td>5</td>\n",
              "      <td>2</td>\n",
              "      <td>4</td>\n",
              "      <td>5</td>\n",
              "      <td>4</td>\n",
              "      <td>5</td>\n",
              "    </tr>\n",
              "    <tr>\n",
              "      <th>3</th>\n",
              "      <td>12/12/2019 21:43</td>\n",
              "      <td>Female</td>\n",
              "      <td>Yes</td>\n",
              "      <td>21 - 30</td>\n",
              "      <td>Single</td>\n",
              "      <td>Less than 1 hours per day</td>\n",
              "      <td>4</td>\n",
              "      <td>4</td>\n",
              "      <td>3</td>\n",
              "      <td>3</td>\n",
              "      <td>3</td>\n",
              "      <td>1</td>\n",
              "      <td>1</td>\n",
              "    </tr>\n",
              "    <tr>\n",
              "      <th>4</th>\n",
              "      <td>12/12/2019 21:43</td>\n",
              "      <td>Male</td>\n",
              "      <td>Yes</td>\n",
              "      <td>21 - 30</td>\n",
              "      <td>Single</td>\n",
              "      <td>Less than 1 hours per day</td>\n",
              "      <td>3</td>\n",
              "      <td>5</td>\n",
              "      <td>2</td>\n",
              "      <td>3</td>\n",
              "      <td>4</td>\n",
              "      <td>4</td>\n",
              "      <td>1</td>\n",
              "    </tr>\n",
              "    <tr>\n",
              "      <th>5</th>\n",
              "      <td>12/12/2019 21:47</td>\n",
              "      <td>Female</td>\n",
              "      <td>Yes</td>\n",
              "      <td>21 - 30</td>\n",
              "      <td>Single</td>\n",
              "      <td>Less than 2 hours per day</td>\n",
              "      <td>2</td>\n",
              "      <td>5</td>\n",
              "      <td>2</td>\n",
              "      <td>3</td>\n",
              "      <td>3</td>\n",
              "      <td>2</td>\n",
              "      <td>2</td>\n",
              "    </tr>\n",
              "    <tr>\n",
              "      <th>6</th>\n",
              "      <td>12/12/2019 21:52</td>\n",
              "      <td>Female</td>\n",
              "      <td>Yes</td>\n",
              "      <td>31 - 40</td>\n",
              "      <td>Married</td>\n",
              "      <td>Less than 2 hours per day</td>\n",
              "      <td>2</td>\n",
              "      <td>4</td>\n",
              "      <td>3</td>\n",
              "      <td>3</td>\n",
              "      <td>2</td>\n",
              "      <td>1</td>\n",
              "      <td>2</td>\n",
              "    </tr>\n",
              "    <tr>\n",
              "      <th>7</th>\n",
              "      <td>12/12/2019 22:38</td>\n",
              "      <td>Female</td>\n",
              "      <td>Yes</td>\n",
              "      <td>21 - 30</td>\n",
              "      <td>Single</td>\n",
              "      <td>4 hours and above per day</td>\n",
              "      <td>4</td>\n",
              "      <td>4</td>\n",
              "      <td>3</td>\n",
              "      <td>5</td>\n",
              "      <td>5</td>\n",
              "      <td>3</td>\n",
              "      <td>5</td>\n",
              "    </tr>\n",
              "    <tr>\n",
              "      <th>8</th>\n",
              "      <td>12/13/2019 7:19:36</td>\n",
              "      <td>Female</td>\n",
              "      <td>Yes</td>\n",
              "      <td>21 - 30</td>\n",
              "      <td>Single</td>\n",
              "      <td>4 hours and above per day</td>\n",
              "      <td>5</td>\n",
              "      <td>4</td>\n",
              "      <td>3</td>\n",
              "      <td>4</td>\n",
              "      <td>4</td>\n",
              "      <td>4</td>\n",
              "      <td>5</td>\n",
              "    </tr>\n",
              "    <tr>\n",
              "      <th>9</th>\n",
              "      <td>12/13/2019 12:10:15</td>\n",
              "      <td>Male</td>\n",
              "      <td>Yes</td>\n",
              "      <td>21 - 30</td>\n",
              "      <td>Single</td>\n",
              "      <td>4 hours and above per day</td>\n",
              "      <td>2</td>\n",
              "      <td>5</td>\n",
              "      <td>3</td>\n",
              "      <td>2</td>\n",
              "      <td>5</td>\n",
              "      <td>2</td>\n",
              "      <td>5</td>\n",
              "    </tr>\n",
              "    <tr>\n",
              "      <th>10</th>\n",
              "      <td>12/13/2019 21:49:17</td>\n",
              "      <td>Female</td>\n",
              "      <td>Yes</td>\n",
              "      <td>21 - 30</td>\n",
              "      <td>Single</td>\n",
              "      <td>4 hours and above per day</td>\n",
              "      <td>5</td>\n",
              "      <td>5</td>\n",
              "      <td>3</td>\n",
              "      <td>5</td>\n",
              "      <td>4</td>\n",
              "      <td>3</td>\n",
              "      <td>5</td>\n",
              "    </tr>\n",
              "    <tr>\n",
              "      <th>11</th>\n",
              "      <td>12/13/2019 21:49:35</td>\n",
              "      <td>Female</td>\n",
              "      <td>Yes</td>\n",
              "      <td>20 or below</td>\n",
              "      <td>Single</td>\n",
              "      <td>Less than 3 hours per day</td>\n",
              "      <td>4</td>\n",
              "      <td>4</td>\n",
              "      <td>4</td>\n",
              "      <td>2</td>\n",
              "      <td>3</td>\n",
              "      <td>3</td>\n",
              "      <td>3</td>\n",
              "    </tr>\n",
              "    <tr>\n",
              "      <th>12</th>\n",
              "      <td>12/16/2019 8:46:54</td>\n",
              "      <td>Female</td>\n",
              "      <td>Yes</td>\n",
              "      <td>21 - 30</td>\n",
              "      <td>Single</td>\n",
              "      <td>4 hours and above per day</td>\n",
              "      <td>3</td>\n",
              "      <td>5</td>\n",
              "      <td>2</td>\n",
              "      <td>4</td>\n",
              "      <td>5</td>\n",
              "      <td>5</td>\n",
              "      <td>5</td>\n",
              "    </tr>\n",
              "    <tr>\n",
              "      <th>13</th>\n",
              "      <td>12/16/2019 9:43:37</td>\n",
              "      <td>Female</td>\n",
              "      <td>Yes</td>\n",
              "      <td>20 or below</td>\n",
              "      <td>Single</td>\n",
              "      <td>4 hours and above per day</td>\n",
              "      <td>5</td>\n",
              "      <td>4</td>\n",
              "      <td>4</td>\n",
              "      <td>3</td>\n",
              "      <td>4</td>\n",
              "      <td>4</td>\n",
              "      <td>5</td>\n",
              "    </tr>\n",
              "    <tr>\n",
              "      <th>14</th>\n",
              "      <td>12/16/2019 13:39:48</td>\n",
              "      <td>Female</td>\n",
              "      <td>Yes</td>\n",
              "      <td>21 - 30</td>\n",
              "      <td>Single</td>\n",
              "      <td>4 hours and above per day</td>\n",
              "      <td>4</td>\n",
              "      <td>3</td>\n",
              "      <td>3</td>\n",
              "      <td>4</td>\n",
              "      <td>5</td>\n",
              "      <td>4</td>\n",
              "      <td>5</td>\n",
              "    </tr>\n",
              "    <tr>\n",
              "      <th>15</th>\n",
              "      <td>12/19/2019 14:01:37</td>\n",
              "      <td>Female</td>\n",
              "      <td>Yes</td>\n",
              "      <td>21 - 30</td>\n",
              "      <td>Single</td>\n",
              "      <td>4 hours and above per day</td>\n",
              "      <td>3</td>\n",
              "      <td>5</td>\n",
              "      <td>5</td>\n",
              "      <td>5</td>\n",
              "      <td>4</td>\n",
              "      <td>4</td>\n",
              "      <td>5</td>\n",
              "    </tr>\n",
              "    <tr>\n",
              "      <th>16</th>\n",
              "      <td>12/27/2019 23:33:37</td>\n",
              "      <td>Female</td>\n",
              "      <td>Yes</td>\n",
              "      <td>31 - 40</td>\n",
              "      <td>Married</td>\n",
              "      <td>Less than 3 hours per day</td>\n",
              "      <td>4</td>\n",
              "      <td>5</td>\n",
              "      <td>2</td>\n",
              "      <td>4</td>\n",
              "      <td>4</td>\n",
              "      <td>4</td>\n",
              "      <td>3</td>\n",
              "    </tr>\n",
              "    <tr>\n",
              "      <th>17</th>\n",
              "      <td>12/28/2019 0:24:46</td>\n",
              "      <td>Male</td>\n",
              "      <td>Yes</td>\n",
              "      <td>21 - 30</td>\n",
              "      <td>Single</td>\n",
              "      <td>Less than 3 hours per day</td>\n",
              "      <td>5</td>\n",
              "      <td>5</td>\n",
              "      <td>5</td>\n",
              "      <td>5</td>\n",
              "      <td>5</td>\n",
              "      <td>5</td>\n",
              "      <td>3</td>\n",
              "    </tr>\n",
              "    <tr>\n",
              "      <th>18</th>\n",
              "      <td>12/28/2019 0:38:15</td>\n",
              "      <td>Male</td>\n",
              "      <td>Yes</td>\n",
              "      <td>21 - 30</td>\n",
              "      <td>Single</td>\n",
              "      <td>Less than 4 hours per day</td>\n",
              "      <td>3</td>\n",
              "      <td>5</td>\n",
              "      <td>3</td>\n",
              "      <td>2</td>\n",
              "      <td>4</td>\n",
              "      <td>4</td>\n",
              "      <td>4</td>\n",
              "    </tr>\n",
              "    <tr>\n",
              "      <th>19</th>\n",
              "      <td>12/28/2019 8:38:21</td>\n",
              "      <td>Female</td>\n",
              "      <td>Yes</td>\n",
              "      <td>21 - 30</td>\n",
              "      <td>Single</td>\n",
              "      <td>Less than 4 hours per day</td>\n",
              "      <td>4</td>\n",
              "      <td>4</td>\n",
              "      <td>2</td>\n",
              "      <td>4</td>\n",
              "      <td>1</td>\n",
              "      <td>1</td>\n",
              "      <td>4</td>\n",
              "    </tr>\n",
              "    <tr>\n",
              "      <th>20</th>\n",
              "      <td>12/28/2019 9:36:24</td>\n",
              "      <td>Male</td>\n",
              "      <td>Yes</td>\n",
              "      <td>31 - 40</td>\n",
              "      <td>Married</td>\n",
              "      <td>4 hours and above per day</td>\n",
              "      <td>4</td>\n",
              "      <td>4</td>\n",
              "      <td>2</td>\n",
              "      <td>2</td>\n",
              "      <td>3</td>\n",
              "      <td>1</td>\n",
              "      <td>5</td>\n",
              "    </tr>\n",
              "    <tr>\n",
              "      <th>21</th>\n",
              "      <td>12/28/2019 9:48:09</td>\n",
              "      <td>Female</td>\n",
              "      <td>Yes</td>\n",
              "      <td>21 - 30</td>\n",
              "      <td>Single</td>\n",
              "      <td>4 hours and above per day</td>\n",
              "      <td>3</td>\n",
              "      <td>5</td>\n",
              "      <td>2</td>\n",
              "      <td>5</td>\n",
              "      <td>5</td>\n",
              "      <td>3</td>\n",
              "      <td>5</td>\n",
              "    </tr>\n",
              "    <tr>\n",
              "      <th>22</th>\n",
              "      <td>12/28/2019 10:13:48</td>\n",
              "      <td>Female</td>\n",
              "      <td>Yes</td>\n",
              "      <td>21 - 30</td>\n",
              "      <td>Married</td>\n",
              "      <td>4 hours and above per day</td>\n",
              "      <td>3</td>\n",
              "      <td>4</td>\n",
              "      <td>3</td>\n",
              "      <td>2</td>\n",
              "      <td>3</td>\n",
              "      <td>3</td>\n",
              "      <td>5</td>\n",
              "    </tr>\n",
              "    <tr>\n",
              "      <th>23</th>\n",
              "      <td>12/28/2019 11:14:29</td>\n",
              "      <td>Male</td>\n",
              "      <td>Yes</td>\n",
              "      <td>31 - 40</td>\n",
              "      <td>Single</td>\n",
              "      <td>Less than 1 hours per day</td>\n",
              "      <td>4</td>\n",
              "      <td>2</td>\n",
              "      <td>4</td>\n",
              "      <td>4</td>\n",
              "      <td>4</td>\n",
              "      <td>4</td>\n",
              "      <td>1</td>\n",
              "    </tr>\n",
              "    <tr>\n",
              "      <th>24</th>\n",
              "      <td>12/28/2019 12:54:20</td>\n",
              "      <td>Male</td>\n",
              "      <td>Yes</td>\n",
              "      <td>31 - 40</td>\n",
              "      <td>Married</td>\n",
              "      <td>4 hours and above per day</td>\n",
              "      <td>3</td>\n",
              "      <td>3</td>\n",
              "      <td>2</td>\n",
              "      <td>3</td>\n",
              "      <td>3</td>\n",
              "      <td>3</td>\n",
              "      <td>5</td>\n",
              "    </tr>\n",
              "  </tbody>\n",
              "</table>\n",
              "</div>\n",
              "      <button class=\"colab-df-convert\" onclick=\"convertToInteractive('df-14ecb6ec-c4cb-4cca-b715-b682d4315bb6')\"\n",
              "              title=\"Convert this dataframe to an interactive table.\"\n",
              "              style=\"display:none;\">\n",
              "        \n",
              "  <svg xmlns=\"http://www.w3.org/2000/svg\" height=\"24px\"viewBox=\"0 0 24 24\"\n",
              "       width=\"24px\">\n",
              "    <path d=\"M0 0h24v24H0V0z\" fill=\"none\"/>\n",
              "    <path d=\"M18.56 5.44l.94 2.06.94-2.06 2.06-.94-2.06-.94-.94-2.06-.94 2.06-2.06.94zm-11 1L8.5 8.5l.94-2.06 2.06-.94-2.06-.94L8.5 2.5l-.94 2.06-2.06.94zm10 10l.94 2.06.94-2.06 2.06-.94-2.06-.94-.94-2.06-.94 2.06-2.06.94z\"/><path d=\"M17.41 7.96l-1.37-1.37c-.4-.4-.92-.59-1.43-.59-.52 0-1.04.2-1.43.59L10.3 9.45l-7.72 7.72c-.78.78-.78 2.05 0 2.83L4 21.41c.39.39.9.59 1.41.59.51 0 1.02-.2 1.41-.59l7.78-7.78 2.81-2.81c.8-.78.8-2.07 0-2.86zM5.41 20L4 18.59l7.72-7.72 1.47 1.35L5.41 20z\"/>\n",
              "  </svg>\n",
              "      </button>\n",
              "      \n",
              "  <style>\n",
              "    .colab-df-container {\n",
              "      display:flex;\n",
              "      flex-wrap:wrap;\n",
              "      gap: 12px;\n",
              "    }\n",
              "\n",
              "    .colab-df-convert {\n",
              "      background-color: #E8F0FE;\n",
              "      border: none;\n",
              "      border-radius: 50%;\n",
              "      cursor: pointer;\n",
              "      display: none;\n",
              "      fill: #1967D2;\n",
              "      height: 32px;\n",
              "      padding: 0 0 0 0;\n",
              "      width: 32px;\n",
              "    }\n",
              "\n",
              "    .colab-df-convert:hover {\n",
              "      background-color: #E2EBFA;\n",
              "      box-shadow: 0px 1px 2px rgba(60, 64, 67, 0.3), 0px 1px 3px 1px rgba(60, 64, 67, 0.15);\n",
              "      fill: #174EA6;\n",
              "    }\n",
              "\n",
              "    [theme=dark] .colab-df-convert {\n",
              "      background-color: #3B4455;\n",
              "      fill: #D2E3FC;\n",
              "    }\n",
              "\n",
              "    [theme=dark] .colab-df-convert:hover {\n",
              "      background-color: #434B5C;\n",
              "      box-shadow: 0px 1px 3px 1px rgba(0, 0, 0, 0.15);\n",
              "      filter: drop-shadow(0px 1px 2px rgba(0, 0, 0, 0.3));\n",
              "      fill: #FFFFFF;\n",
              "    }\n",
              "  </style>\n",
              "\n",
              "      <script>\n",
              "        const buttonEl =\n",
              "          document.querySelector('#df-14ecb6ec-c4cb-4cca-b715-b682d4315bb6 button.colab-df-convert');\n",
              "        buttonEl.style.display =\n",
              "          google.colab.kernel.accessAllowed ? 'block' : 'none';\n",
              "\n",
              "        async function convertToInteractive(key) {\n",
              "          const element = document.querySelector('#df-14ecb6ec-c4cb-4cca-b715-b682d4315bb6');\n",
              "          const dataTable =\n",
              "            await google.colab.kernel.invokeFunction('convertToInteractive',\n",
              "                                                     [key], {});\n",
              "          if (!dataTable) return;\n",
              "\n",
              "          const docLinkHtml = 'Like what you see? Visit the ' +\n",
              "            '<a target=\"_blank\" href=https://colab.research.google.com/notebooks/data_table.ipynb>data table notebook</a>'\n",
              "            + ' to learn more about interactive tables.';\n",
              "          element.innerHTML = '';\n",
              "          dataTable['output_type'] = 'display_data';\n",
              "          await google.colab.output.renderOutput(dataTable, element);\n",
              "          const docLink = document.createElement('div');\n",
              "          docLink.innerHTML = docLinkHtml;\n",
              "          element.appendChild(docLink);\n",
              "        }\n",
              "      </script>\n",
              "    </div>\n",
              "  </div>\n",
              "  "
            ],
            "text/plain": [
              "              Timestamp  Gender Student          Age  ... Q5 Q6  Q7  Q1_proc\n",
              "0       12/12/2019 2:06  Female     Yes      21 - 30  ...  3  4   1        4\n",
              "1      12/12/2019 21:41    Male     Yes      21 - 30  ...  2  4   4        2\n",
              "2      12/12/2019 21:42  Female     Yes      21 - 30  ...  4  5   4        5\n",
              "3      12/12/2019 21:43  Female     Yes      21 - 30  ...  3  3   1        1\n",
              "4      12/12/2019 21:43    Male     Yes      21 - 30  ...  3  4   4        1\n",
              "5      12/12/2019 21:47  Female     Yes      21 - 30  ...  3  3   2        2\n",
              "6      12/12/2019 21:52  Female     Yes      31 - 40  ...  3  2   1        2\n",
              "7      12/12/2019 22:38  Female     Yes      21 - 30  ...  5  5   3        5\n",
              "8    12/13/2019 7:19:36  Female     Yes      21 - 30  ...  4  4   4        5\n",
              "9   12/13/2019 12:10:15    Male     Yes      21 - 30  ...  2  5   2        5\n",
              "10  12/13/2019 21:49:17  Female     Yes      21 - 30  ...  5  4   3        5\n",
              "11  12/13/2019 21:49:35  Female     Yes  20 or below  ...  2  3   3        3\n",
              "12   12/16/2019 8:46:54  Female     Yes      21 - 30  ...  4  5   5        5\n",
              "13   12/16/2019 9:43:37  Female     Yes  20 or below  ...  3  4   4        5\n",
              "14  12/16/2019 13:39:48  Female     Yes      21 - 30  ...  4  5   4        5\n",
              "15  12/19/2019 14:01:37  Female     Yes      21 - 30  ...  5  4   4        5\n",
              "16  12/27/2019 23:33:37  Female     Yes      31 - 40  ...  4  4   4        3\n",
              "17   12/28/2019 0:24:46    Male     Yes      21 - 30  ...  5  5   5        3\n",
              "18   12/28/2019 0:38:15    Male     Yes      21 - 30  ...  2  4   4        4\n",
              "19   12/28/2019 8:38:21  Female     Yes      21 - 30  ...  4  1   1        4\n",
              "20   12/28/2019 9:36:24    Male     Yes      31 - 40  ...  2  3   1        5\n",
              "21   12/28/2019 9:48:09  Female     Yes      21 - 30  ...  5  5   3        5\n",
              "22  12/28/2019 10:13:48  Female     Yes      21 - 30  ...  2  3   3        5\n",
              "23  12/28/2019 11:14:29    Male     Yes      31 - 40  ...  4  4   4        1\n",
              "24  12/28/2019 12:54:20    Male     Yes      31 - 40  ...  3  3   3        5\n",
              "\n",
              "[25 rows x 13 columns]"
            ]
          },
          "metadata": {},
          "execution_count": 180
        }
      ]
    },
    {
      "cell_type": "markdown",
      "source": [
        "## Kolom Points"
      ],
      "metadata": {
        "id": "1qDP2R2Bz_sI"
      }
    },
    {
      "cell_type": "code",
      "source": [
        "df['Total_Points'] = df['Q1_proc'] + df['Q2'] + df['Q3'] + df['Q4'] + df['Q5'] + df['Q6'] + df['Q7']"
      ],
      "metadata": {
        "id": "rK3z-xV_z-__"
      },
      "execution_count": null,
      "outputs": []
    },
    {
      "cell_type": "markdown",
      "source": [
        "Setelah itu, urutkan data berdasarkan kolom Total_Points secara berurutan dari yang terkecil hingga terbesar."
      ],
      "metadata": {
        "id": "u8CuzTnhAiQK"
      }
    },
    {
      "cell_type": "code",
      "source": [
        "df = df.sort_values(by='Total_Points',ascending=True).reset_index().drop('index',axis=1)"
      ],
      "metadata": {
        "id": "aRaB6gCE0Z0c"
      },
      "execution_count": null,
      "outputs": []
    },
    {
      "cell_type": "markdown",
      "source": [
        "Sekarang periksa tampilan data terbaru."
      ],
      "metadata": {
        "id": "tgQnfgPfAqck"
      }
    },
    {
      "cell_type": "code",
      "source": [
        "df.head()"
      ],
      "metadata": {
        "colab": {
          "base_uri": "https://localhost:8080/",
          "height": 337
        },
        "id": "3g-muhGQAayw",
        "outputId": "90d11af4-a445-440c-b199-d282fb53971f"
      },
      "execution_count": null,
      "outputs": [
        {
          "output_type": "execute_result",
          "data": {
            "text/html": [
              "\n",
              "  <div id=\"df-871b3b91-0c4c-4499-afe3-b37997c38e39\">\n",
              "    <div class=\"colab-df-container\">\n",
              "      <div>\n",
              "<style scoped>\n",
              "    .dataframe tbody tr th:only-of-type {\n",
              "        vertical-align: middle;\n",
              "    }\n",
              "\n",
              "    .dataframe tbody tr th {\n",
              "        vertical-align: top;\n",
              "    }\n",
              "\n",
              "    .dataframe thead th {\n",
              "        text-align: right;\n",
              "    }\n",
              "</style>\n",
              "<table border=\"1\" class=\"dataframe\">\n",
              "  <thead>\n",
              "    <tr style=\"text-align: right;\">\n",
              "      <th></th>\n",
              "      <th>Timestamp</th>\n",
              "      <th>Gender</th>\n",
              "      <th>Student</th>\n",
              "      <th>Age</th>\n",
              "      <th>Marital</th>\n",
              "      <th>Q1</th>\n",
              "      <th>Q2</th>\n",
              "      <th>Q3</th>\n",
              "      <th>Q4</th>\n",
              "      <th>Q5</th>\n",
              "      <th>Q6</th>\n",
              "      <th>Q7</th>\n",
              "      <th>Q1_proc</th>\n",
              "      <th>Total_Points</th>\n",
              "    </tr>\n",
              "  </thead>\n",
              "  <tbody>\n",
              "    <tr>\n",
              "      <th>0</th>\n",
              "      <td>12/13/2019 8:43:19</td>\n",
              "      <td>Female</td>\n",
              "      <td>No</td>\n",
              "      <td>31 - 40</td>\n",
              "      <td>Married</td>\n",
              "      <td>Less than 1 hours per day</td>\n",
              "      <td>2</td>\n",
              "      <td>2</td>\n",
              "      <td>2</td>\n",
              "      <td>3</td>\n",
              "      <td>3</td>\n",
              "      <td>2</td>\n",
              "      <td>1</td>\n",
              "      <td>15</td>\n",
              "    </tr>\n",
              "    <tr>\n",
              "      <th>1</th>\n",
              "      <td>12/12/2019 21:52</td>\n",
              "      <td>Female</td>\n",
              "      <td>Yes</td>\n",
              "      <td>31 - 40</td>\n",
              "      <td>Married</td>\n",
              "      <td>Less than 2 hours per day</td>\n",
              "      <td>2</td>\n",
              "      <td>4</td>\n",
              "      <td>3</td>\n",
              "      <td>3</td>\n",
              "      <td>2</td>\n",
              "      <td>1</td>\n",
              "      <td>2</td>\n",
              "      <td>17</td>\n",
              "    </tr>\n",
              "    <tr>\n",
              "      <th>2</th>\n",
              "      <td>1/1/2020 16:15</td>\n",
              "      <td>Female</td>\n",
              "      <td>Yes</td>\n",
              "      <td>21 - 30</td>\n",
              "      <td>Married</td>\n",
              "      <td>Less than 1 hours per day</td>\n",
              "      <td>2</td>\n",
              "      <td>2</td>\n",
              "      <td>2</td>\n",
              "      <td>2</td>\n",
              "      <td>4</td>\n",
              "      <td>5</td>\n",
              "      <td>1</td>\n",
              "      <td>18</td>\n",
              "    </tr>\n",
              "    <tr>\n",
              "      <th>3</th>\n",
              "      <td>12/31/2019 21:23:06</td>\n",
              "      <td>Female</td>\n",
              "      <td>Yes</td>\n",
              "      <td>21 - 30</td>\n",
              "      <td>Single</td>\n",
              "      <td>4 hours and above per day</td>\n",
              "      <td>1</td>\n",
              "      <td>1</td>\n",
              "      <td>1</td>\n",
              "      <td>4</td>\n",
              "      <td>5</td>\n",
              "      <td>1</td>\n",
              "      <td>5</td>\n",
              "      <td>18</td>\n",
              "    </tr>\n",
              "    <tr>\n",
              "      <th>4</th>\n",
              "      <td>12/14/2019 21:47:44</td>\n",
              "      <td>Male</td>\n",
              "      <td>No</td>\n",
              "      <td>21 - 30</td>\n",
              "      <td>Single</td>\n",
              "      <td>Less than 2 hours per day</td>\n",
              "      <td>3</td>\n",
              "      <td>4</td>\n",
              "      <td>3</td>\n",
              "      <td>2</td>\n",
              "      <td>2</td>\n",
              "      <td>2</td>\n",
              "      <td>2</td>\n",
              "      <td>18</td>\n",
              "    </tr>\n",
              "  </tbody>\n",
              "</table>\n",
              "</div>\n",
              "      <button class=\"colab-df-convert\" onclick=\"convertToInteractive('df-871b3b91-0c4c-4499-afe3-b37997c38e39')\"\n",
              "              title=\"Convert this dataframe to an interactive table.\"\n",
              "              style=\"display:none;\">\n",
              "        \n",
              "  <svg xmlns=\"http://www.w3.org/2000/svg\" height=\"24px\"viewBox=\"0 0 24 24\"\n",
              "       width=\"24px\">\n",
              "    <path d=\"M0 0h24v24H0V0z\" fill=\"none\"/>\n",
              "    <path d=\"M18.56 5.44l.94 2.06.94-2.06 2.06-.94-2.06-.94-.94-2.06-.94 2.06-2.06.94zm-11 1L8.5 8.5l.94-2.06 2.06-.94-2.06-.94L8.5 2.5l-.94 2.06-2.06.94zm10 10l.94 2.06.94-2.06 2.06-.94-2.06-.94-.94-2.06-.94 2.06-2.06.94z\"/><path d=\"M17.41 7.96l-1.37-1.37c-.4-.4-.92-.59-1.43-.59-.52 0-1.04.2-1.43.59L10.3 9.45l-7.72 7.72c-.78.78-.78 2.05 0 2.83L4 21.41c.39.39.9.59 1.41.59.51 0 1.02-.2 1.41-.59l7.78-7.78 2.81-2.81c.8-.78.8-2.07 0-2.86zM5.41 20L4 18.59l7.72-7.72 1.47 1.35L5.41 20z\"/>\n",
              "  </svg>\n",
              "      </button>\n",
              "      \n",
              "  <style>\n",
              "    .colab-df-container {\n",
              "      display:flex;\n",
              "      flex-wrap:wrap;\n",
              "      gap: 12px;\n",
              "    }\n",
              "\n",
              "    .colab-df-convert {\n",
              "      background-color: #E8F0FE;\n",
              "      border: none;\n",
              "      border-radius: 50%;\n",
              "      cursor: pointer;\n",
              "      display: none;\n",
              "      fill: #1967D2;\n",
              "      height: 32px;\n",
              "      padding: 0 0 0 0;\n",
              "      width: 32px;\n",
              "    }\n",
              "\n",
              "    .colab-df-convert:hover {\n",
              "      background-color: #E2EBFA;\n",
              "      box-shadow: 0px 1px 2px rgba(60, 64, 67, 0.3), 0px 1px 3px 1px rgba(60, 64, 67, 0.15);\n",
              "      fill: #174EA6;\n",
              "    }\n",
              "\n",
              "    [theme=dark] .colab-df-convert {\n",
              "      background-color: #3B4455;\n",
              "      fill: #D2E3FC;\n",
              "    }\n",
              "\n",
              "    [theme=dark] .colab-df-convert:hover {\n",
              "      background-color: #434B5C;\n",
              "      box-shadow: 0px 1px 3px 1px rgba(0, 0, 0, 0.15);\n",
              "      filter: drop-shadow(0px 1px 2px rgba(0, 0, 0, 0.3));\n",
              "      fill: #FFFFFF;\n",
              "    }\n",
              "  </style>\n",
              "\n",
              "      <script>\n",
              "        const buttonEl =\n",
              "          document.querySelector('#df-871b3b91-0c4c-4499-afe3-b37997c38e39 button.colab-df-convert');\n",
              "        buttonEl.style.display =\n",
              "          google.colab.kernel.accessAllowed ? 'block' : 'none';\n",
              "\n",
              "        async function convertToInteractive(key) {\n",
              "          const element = document.querySelector('#df-871b3b91-0c4c-4499-afe3-b37997c38e39');\n",
              "          const dataTable =\n",
              "            await google.colab.kernel.invokeFunction('convertToInteractive',\n",
              "                                                     [key], {});\n",
              "          if (!dataTable) return;\n",
              "\n",
              "          const docLinkHtml = 'Like what you see? Visit the ' +\n",
              "            '<a target=\"_blank\" href=https://colab.research.google.com/notebooks/data_table.ipynb>data table notebook</a>'\n",
              "            + ' to learn more about interactive tables.';\n",
              "          element.innerHTML = '';\n",
              "          dataTable['output_type'] = 'display_data';\n",
              "          await google.colab.output.renderOutput(dataTable, element);\n",
              "          const docLink = document.createElement('div');\n",
              "          docLink.innerHTML = docLinkHtml;\n",
              "          element.appendChild(docLink);\n",
              "        }\n",
              "      </script>\n",
              "    </div>\n",
              "  </div>\n",
              "  "
            ],
            "text/plain": [
              "             Timestamp  Gender Student      Age  ... Q6 Q7  Q1_proc  Total_Points\n",
              "0   12/13/2019 8:43:19  Female      No  31 - 40  ...  3  2        1            15\n",
              "1     12/12/2019 21:52  Female     Yes  31 - 40  ...  2  1        2            17\n",
              "2       1/1/2020 16:15  Female     Yes  21 - 30  ...  4  5        1            18\n",
              "3  12/31/2019 21:23:06  Female     Yes  21 - 30  ...  5  1        5            18\n",
              "4  12/14/2019 21:47:44    Male      No  21 - 30  ...  2  2        2            18\n",
              "\n",
              "[5 rows x 14 columns]"
            ]
          },
          "metadata": {},
          "execution_count": 183
        }
      ]
    },
    {
      "cell_type": "code",
      "source": [
        "#pd.set_option('display.max_rows',None)"
      ],
      "metadata": {
        "id": "46XuNi_6AuOs"
      },
      "execution_count": null,
      "outputs": []
    },
    {
      "cell_type": "code",
      "source": [
        "plt.figure(figsize=(15,8))\n",
        "ax = sns.kdeplot(x = 'Total_Points', data = df, shade=False, color='blue')\n",
        "kdeline = ax.lines[0]\n",
        "mean = df['Total_Points'].mean()\n",
        "xs = kdeline.get_xdata()\n",
        "ys = kdeline.get_ydata()\n",
        "height = np.interp(mean, xs, ys)\n",
        "ax.vlines(mean, 0, height, color='blue', ls=':')\n",
        "ax.fill_between(xs, 0, ys, facecolor='blue', alpha=0.2)\n",
        "plt.xlabel('Total Points',fontdict = {'fontsize':15})\n",
        "plt.show()"
      ],
      "metadata": {
        "colab": {
          "base_uri": "https://localhost:8080/",
          "height": 502
        },
        "id": "D9-1jhNT1jtN",
        "outputId": "36589f53-9525-4ecd-9fe8-81c8bfc9e84c"
      },
      "execution_count": null,
      "outputs": [
        {
          "output_type": "display_data",
          "data": {
            "image/png": "[encoded data removed]",
            "text/plain": [
              "<Figure size 1080x576 with 1 Axes>"
            ]
          },
          "metadata": {
            "needs_background": "light"
          }
        }
      ]
    },
    {
      "cell_type": "markdown",
      "source": [
        "## None, Mild dan High\n",
        "\n",
        "Total_Points yang telah didapatkan kemudian perlu diubah ke dalam bentuk kategori social anxiety untuk lebih mudah dimengerti."
      ],
      "metadata": {
        "id": "iqi8EaO1MuhW"
      }
    },
    {
      "cell_type": "code",
      "source": [
        "print(df['Total_Points'].min())\n",
        "print(df['Total_Points'].mean())\n",
        "print(df['Total_Points'].max())"
      ],
      "metadata": {
        "colab": {
          "base_uri": "https://localhost:8080/"
        },
        "id": "RXgAGPlP_neK",
        "outputId": "9407caad-5fe9-4532-cefb-92e9db1c6eb6"
      },
      "execution_count": null,
      "outputs": [
        {
          "output_type": "stream",
          "name": "stdout",
          "text": [
            "15\n",
            "24.257575757575758\n",
            "33\n"
          ]
        }
      ]
    },
    {
      "cell_type": "code",
      "source": [
        "list(df['Total_Points'].unique())"
      ],
      "metadata": {
        "colab": {
          "base_uri": "https://localhost:8080/"
        },
        "id": "WVyGWEC1MyDS",
        "outputId": "b6ee837e-3e14-4d2a-a808-0e6e15af4c77"
      },
      "execution_count": null,
      "outputs": [
        {
          "output_type": "execute_result",
          "data": {
            "text/plain": [
              "[15, 17, 18, 19, 20, 21, 22, 23, 24, 25, 26, 27, 28, 29, 30, 31, 32, 33]"
            ]
          },
          "metadata": {},
          "execution_count": 187
        }
      ]
    },
    {
      "cell_type": "markdown",
      "source": [
        "Terdapat 18 titk data Total_Points yang unik. Dari sini, akan ditentukan kategori dengan kriteria sebagai berikut.\n",
        "\n",
        "1. 15 - 21 : None Anxiety (tidak ada kecemasan)\n",
        "2. 22 - 27 : Mild Anxiety (kecemasan ringan)\n",
        "3. 28 - 33 : High Anxiety (kecemasan tinggi)"
      ],
      "metadata": {
        "id": "_UtJ5Re1NVMc"
      }
    },
    {
      "cell_type": "code",
      "source": [
        "def anxiety(score):\n",
        "  if score in range(15,22):\n",
        "    return 'None'\n",
        "  elif score in range(22,28):\n",
        "    return 'Mild'\n",
        "  elif score in range(28,34):\n",
        "    return 'High'\n",
        "\n",
        "def anxiety_num(score): # akan berguna pada tahap modelling data nanti\n",
        "  if score in range(15,22):\n",
        "    return 0\n",
        "  elif score in range(22,28):\n",
        "    return 1\n",
        "  elif score in range(28,34):\n",
        "    return 2"
      ],
      "metadata": {
        "id": "hscEXMGfMuFD"
      },
      "execution_count": null,
      "outputs": []
    },
    {
      "cell_type": "code",
      "source": [
        "df.loc[:,'Anxiety'] = df['Total_Points'].apply(lambda x: anxiety(x))\n",
        "df.loc[:,'Anxiety_num'] = df['Total_Points'].apply(lambda x: anxiety_num(x))"
      ],
      "metadata": {
        "id": "UvzuQnuXOS9Z"
      },
      "execution_count": null,
      "outputs": []
    },
    {
      "cell_type": "code",
      "source": [
        "# Cek Tampilan Terbaru\n",
        "df"
      ],
      "metadata": {
        "colab": {
          "base_uri": "https://localhost:8080/",
          "height": 1000
        },
        "id": "pFBVhQfFOh0S",
        "outputId": "6968227b-ad15-4610-9d04-a7a81de85962"
      },
      "execution_count": null,
      "outputs": [
        {
          "output_type": "execute_result",
          "data": {
            "text/html": [
              "\n",
              "  <div id=\"df-0afcd45f-fafc-4a0b-9d6b-bcedf5a60eb4\">\n",
              "    <div class=\"colab-df-container\">\n",
              "      <div>\n",
              "<style scoped>\n",
              "    .dataframe tbody tr th:only-of-type {\n",
              "        vertical-align: middle;\n",
              "    }\n",
              "\n",
              "    .dataframe tbody tr th {\n",
              "        vertical-align: top;\n",
              "    }\n",
              "\n",
              "    .dataframe thead th {\n",
              "        text-align: right;\n",
              "    }\n",
              "</style>\n",
              "<table border=\"1\" class=\"dataframe\">\n",
              "  <thead>\n",
              "    <tr style=\"text-align: right;\">\n",
              "      <th></th>\n",
              "      <th>Timestamp</th>\n",
              "      <th>Gender</th>\n",
              "      <th>Student</th>\n",
              "      <th>Age</th>\n",
              "      <th>Marital</th>\n",
              "      <th>Q1</th>\n",
              "      <th>Q2</th>\n",
              "      <th>Q3</th>\n",
              "      <th>Q4</th>\n",
              "      <th>Q5</th>\n",
              "      <th>Q6</th>\n",
              "      <th>Q7</th>\n",
              "      <th>Q1_proc</th>\n",
              "      <th>Total_Points</th>\n",
              "      <th>Anxiety</th>\n",
              "      <th>Anxiety_num</th>\n",
              "    </tr>\n",
              "  </thead>\n",
              "  <tbody>\n",
              "    <tr>\n",
              "      <th>0</th>\n",
              "      <td>12/13/2019 8:43:19</td>\n",
              "      <td>Female</td>\n",
              "      <td>No</td>\n",
              "      <td>31 - 40</td>\n",
              "      <td>Married</td>\n",
              "      <td>Less than 1 hours per day</td>\n",
              "      <td>2</td>\n",
              "      <td>2</td>\n",
              "      <td>2</td>\n",
              "      <td>3</td>\n",
              "      <td>3</td>\n",
              "      <td>2</td>\n",
              "      <td>1</td>\n",
              "      <td>15</td>\n",
              "      <td>None</td>\n",
              "      <td>0</td>\n",
              "    </tr>\n",
              "    <tr>\n",
              "      <th>1</th>\n",
              "      <td>12/12/2019 21:52</td>\n",
              "      <td>Female</td>\n",
              "      <td>Yes</td>\n",
              "      <td>31 - 40</td>\n",
              "      <td>Married</td>\n",
              "      <td>Less than 2 hours per day</td>\n",
              "      <td>2</td>\n",
              "      <td>4</td>\n",
              "      <td>3</td>\n",
              "      <td>3</td>\n",
              "      <td>2</td>\n",
              "      <td>1</td>\n",
              "      <td>2</td>\n",
              "      <td>17</td>\n",
              "      <td>None</td>\n",
              "      <td>0</td>\n",
              "    </tr>\n",
              "    <tr>\n",
              "      <th>2</th>\n",
              "      <td>1/1/2020 16:15</td>\n",
              "      <td>Female</td>\n",
              "      <td>Yes</td>\n",
              "      <td>21 - 30</td>\n",
              "      <td>Married</td>\n",
              "      <td>Less than 1 hours per day</td>\n",
              "      <td>2</td>\n",
              "      <td>2</td>\n",
              "      <td>2</td>\n",
              "      <td>2</td>\n",
              "      <td>4</td>\n",
              "      <td>5</td>\n",
              "      <td>1</td>\n",
              "      <td>18</td>\n",
              "      <td>None</td>\n",
              "      <td>0</td>\n",
              "    </tr>\n",
              "    <tr>\n",
              "      <th>3</th>\n",
              "      <td>12/31/2019 21:23:06</td>\n",
              "      <td>Female</td>\n",
              "      <td>Yes</td>\n",
              "      <td>21 - 30</td>\n",
              "      <td>Single</td>\n",
              "      <td>4 hours and above per day</td>\n",
              "      <td>1</td>\n",
              "      <td>1</td>\n",
              "      <td>1</td>\n",
              "      <td>4</td>\n",
              "      <td>5</td>\n",
              "      <td>1</td>\n",
              "      <td>5</td>\n",
              "      <td>18</td>\n",
              "      <td>None</td>\n",
              "      <td>0</td>\n",
              "    </tr>\n",
              "    <tr>\n",
              "      <th>4</th>\n",
              "      <td>12/14/2019 21:47:44</td>\n",
              "      <td>Male</td>\n",
              "      <td>No</td>\n",
              "      <td>21 - 30</td>\n",
              "      <td>Single</td>\n",
              "      <td>Less than 2 hours per day</td>\n",
              "      <td>3</td>\n",
              "      <td>4</td>\n",
              "      <td>3</td>\n",
              "      <td>2</td>\n",
              "      <td>2</td>\n",
              "      <td>2</td>\n",
              "      <td>2</td>\n",
              "      <td>18</td>\n",
              "      <td>None</td>\n",
              "      <td>0</td>\n",
              "    </tr>\n",
              "    <tr>\n",
              "      <th>...</th>\n",
              "      <td>...</td>\n",
              "      <td>...</td>\n",
              "      <td>...</td>\n",
              "      <td>...</td>\n",
              "      <td>...</td>\n",
              "      <td>...</td>\n",
              "      <td>...</td>\n",
              "      <td>...</td>\n",
              "      <td>...</td>\n",
              "      <td>...</td>\n",
              "      <td>...</td>\n",
              "      <td>...</td>\n",
              "      <td>...</td>\n",
              "      <td>...</td>\n",
              "      <td>...</td>\n",
              "      <td>...</td>\n",
              "    </tr>\n",
              "    <tr>\n",
              "      <th>61</th>\n",
              "      <td>12/19/2019 14:01:37</td>\n",
              "      <td>Female</td>\n",
              "      <td>Yes</td>\n",
              "      <td>21 - 30</td>\n",
              "      <td>Single</td>\n",
              "      <td>4 hours and above per day</td>\n",
              "      <td>3</td>\n",
              "      <td>5</td>\n",
              "      <td>5</td>\n",
              "      <td>5</td>\n",
              "      <td>4</td>\n",
              "      <td>4</td>\n",
              "      <td>5</td>\n",
              "      <td>31</td>\n",
              "      <td>High</td>\n",
              "      <td>2</td>\n",
              "    </tr>\n",
              "    <tr>\n",
              "      <th>62</th>\n",
              "      <td>12/12/2019 22:36</td>\n",
              "      <td>Male</td>\n",
              "      <td>No</td>\n",
              "      <td>21 - 30</td>\n",
              "      <td>Single</td>\n",
              "      <td>4 hours and above per day</td>\n",
              "      <td>5</td>\n",
              "      <td>5</td>\n",
              "      <td>5</td>\n",
              "      <td>4</td>\n",
              "      <td>4</td>\n",
              "      <td>4</td>\n",
              "      <td>5</td>\n",
              "      <td>32</td>\n",
              "      <td>High</td>\n",
              "      <td>2</td>\n",
              "    </tr>\n",
              "    <tr>\n",
              "      <th>63</th>\n",
              "      <td>12/20/2019 22:35:50</td>\n",
              "      <td>Female</td>\n",
              "      <td>Yes</td>\n",
              "      <td>20 or below</td>\n",
              "      <td>Single</td>\n",
              "      <td>4 hours and above per day</td>\n",
              "      <td>4</td>\n",
              "      <td>4</td>\n",
              "      <td>4</td>\n",
              "      <td>5</td>\n",
              "      <td>5</td>\n",
              "      <td>5</td>\n",
              "      <td>5</td>\n",
              "      <td>32</td>\n",
              "      <td>High</td>\n",
              "      <td>2</td>\n",
              "    </tr>\n",
              "    <tr>\n",
              "      <th>64</th>\n",
              "      <td>12/22/2019 15:43:22</td>\n",
              "      <td>Female</td>\n",
              "      <td>No</td>\n",
              "      <td>21 - 30</td>\n",
              "      <td>Married</td>\n",
              "      <td>4 hours and above per day</td>\n",
              "      <td>5</td>\n",
              "      <td>5</td>\n",
              "      <td>5</td>\n",
              "      <td>5</td>\n",
              "      <td>5</td>\n",
              "      <td>3</td>\n",
              "      <td>5</td>\n",
              "      <td>33</td>\n",
              "      <td>High</td>\n",
              "      <td>2</td>\n",
              "    </tr>\n",
              "    <tr>\n",
              "      <th>65</th>\n",
              "      <td>12/28/2019 0:24:46</td>\n",
              "      <td>Male</td>\n",
              "      <td>Yes</td>\n",
              "      <td>21 - 30</td>\n",
              "      <td>Single</td>\n",
              "      <td>Less than 3 hours per day</td>\n",
              "      <td>5</td>\n",
              "      <td>5</td>\n",
              "      <td>5</td>\n",
              "      <td>5</td>\n",
              "      <td>5</td>\n",
              "      <td>5</td>\n",
              "      <td>3</td>\n",
              "      <td>33</td>\n",
              "      <td>High</td>\n",
              "      <td>2</td>\n",
              "    </tr>\n",
              "  </tbody>\n",
              "</table>\n",
              "<p>66 rows × 16 columns</p>\n",
              "</div>\n",
              "      <button class=\"colab-df-convert\" onclick=\"convertToInteractive('df-0afcd45f-fafc-4a0b-9d6b-bcedf5a60eb4')\"\n",
              "              title=\"Convert this dataframe to an interactive table.\"\n",
              "              style=\"display:none;\">\n",
              "        \n",
              "  <svg xmlns=\"http://www.w3.org/2000/svg\" height=\"24px\"viewBox=\"0 0 24 24\"\n",
              "       width=\"24px\">\n",
              "    <path d=\"M0 0h24v24H0V0z\" fill=\"none\"/>\n",
              "    <path d=\"M18.56 5.44l.94 2.06.94-2.06 2.06-.94-2.06-.94-.94-2.06-.94 2.06-2.06.94zm-11 1L8.5 8.5l.94-2.06 2.06-.94-2.06-.94L8.5 2.5l-.94 2.06-2.06.94zm10 10l.94 2.06.94-2.06 2.06-.94-2.06-.94-.94-2.06-.94 2.06-2.06.94z\"/><path d=\"M17.41 7.96l-1.37-1.37c-.4-.4-.92-.59-1.43-.59-.52 0-1.04.2-1.43.59L10.3 9.45l-7.72 7.72c-.78.78-.78 2.05 0 2.83L4 21.41c.39.39.9.59 1.41.59.51 0 1.02-.2 1.41-.59l7.78-7.78 2.81-2.81c.8-.78.8-2.07 0-2.86zM5.41 20L4 18.59l7.72-7.72 1.47 1.35L5.41 20z\"/>\n",
              "  </svg>\n",
              "      </button>\n",
              "      \n",
              "  <style>\n",
              "    .colab-df-container {\n",
              "      display:flex;\n",
              "      flex-wrap:wrap;\n",
              "      gap: 12px;\n",
              "    }\n",
              "\n",
              "    .colab-df-convert {\n",
              "      background-color: #E8F0FE;\n",
              "      border: none;\n",
              "      border-radius: 50%;\n",
              "      cursor: pointer;\n",
              "      display: none;\n",
              "      fill: #1967D2;\n",
              "      height: 32px;\n",
              "      padding: 0 0 0 0;\n",
              "      width: 32px;\n",
              "    }\n",
              "\n",
              "    .colab-df-convert:hover {\n",
              "      background-color: #E2EBFA;\n",
              "      box-shadow: 0px 1px 2px rgba(60, 64, 67, 0.3), 0px 1px 3px 1px rgba(60, 64, 67, 0.15);\n",
              "      fill: #174EA6;\n",
              "    }\n",
              "\n",
              "    [theme=dark] .colab-df-convert {\n",
              "      background-color: #3B4455;\n",
              "      fill: #D2E3FC;\n",
              "    }\n",
              "\n",
              "    [theme=dark] .colab-df-convert:hover {\n",
              "      background-color: #434B5C;\n",
              "      box-shadow: 0px 1px 3px 1px rgba(0, 0, 0, 0.15);\n",
              "      filter: drop-shadow(0px 1px 2px rgba(0, 0, 0, 0.3));\n",
              "      fill: #FFFFFF;\n",
              "    }\n",
              "  </style>\n",
              "\n",
              "      <script>\n",
              "        const buttonEl =\n",
              "          document.querySelector('#df-0afcd45f-fafc-4a0b-9d6b-bcedf5a60eb4 button.colab-df-convert');\n",
              "        buttonEl.style.display =\n",
              "          google.colab.kernel.accessAllowed ? 'block' : 'none';\n",
              "\n",
              "        async function convertToInteractive(key) {\n",
              "          const element = document.querySelector('#df-0afcd45f-fafc-4a0b-9d6b-bcedf5a60eb4');\n",
              "          const dataTable =\n",
              "            await google.colab.kernel.invokeFunction('convertToInteractive',\n",
              "                                                     [key], {});\n",
              "          if (!dataTable) return;\n",
              "\n",
              "          const docLinkHtml = 'Like what you see? Visit the ' +\n",
              "            '<a target=\"_blank\" href=https://colab.research.google.com/notebooks/data_table.ipynb>data table notebook</a>'\n",
              "            + ' to learn more about interactive tables.';\n",
              "          element.innerHTML = '';\n",
              "          dataTable['output_type'] = 'display_data';\n",
              "          await google.colab.output.renderOutput(dataTable, element);\n",
              "          const docLink = document.createElement('div');\n",
              "          docLink.innerHTML = docLinkHtml;\n",
              "          element.appendChild(docLink);\n",
              "        }\n",
              "      </script>\n",
              "    </div>\n",
              "  </div>\n",
              "  "
            ],
            "text/plain": [
              "              Timestamp  Gender Student  ... Total_Points Anxiety Anxiety_num\n",
              "0    12/13/2019 8:43:19  Female      No  ...           15    None           0\n",
              "1      12/12/2019 21:52  Female     Yes  ...           17    None           0\n",
              "2        1/1/2020 16:15  Female     Yes  ...           18    None           0\n",
              "3   12/31/2019 21:23:06  Female     Yes  ...           18    None           0\n",
              "4   12/14/2019 21:47:44    Male      No  ...           18    None           0\n",
              "..                  ...     ...     ...  ...          ...     ...         ...\n",
              "61  12/19/2019 14:01:37  Female     Yes  ...           31    High           2\n",
              "62     12/12/2019 22:36    Male      No  ...           32    High           2\n",
              "63  12/20/2019 22:35:50  Female     Yes  ...           32    High           2\n",
              "64  12/22/2019 15:43:22  Female      No  ...           33    High           2\n",
              "65   12/28/2019 0:24:46    Male     Yes  ...           33    High           2\n",
              "\n",
              "[66 rows x 16 columns]"
            ]
          },
          "metadata": {},
          "execution_count": 190
        }
      ]
    },
    {
      "cell_type": "markdown",
      "source": [
        "# Visualisasi Kolom Q1_proc dan Anxiety"
      ],
      "metadata": {
        "id": "E3_DC79nCDY1"
      }
    },
    {
      "cell_type": "code",
      "source": [
        "data = df.groupby(\"Q1\")[\"Q1_proc\"].sum()\n",
        "plt.figure(figsize=(15,8))\n",
        "data.plot.pie(autopct=\"%.1f%%\");\n",
        "plt.title('Waktu yang Dihabiskan untuk Media Sosial', fontdict = {'fontsize':15});"
      ],
      "metadata": {
        "colab": {
          "base_uri": "https://localhost:8080/",
          "height": 484
        },
        "id": "aSpMp9XvCFfg",
        "outputId": "722ad657-5457-4212-98bd-5467c23314af"
      },
      "execution_count": null,
      "outputs": [
        {
          "output_type": "display_data",
          "data": {
            "image/png": "[encoded data removed]",
            "text/plain": [
              "<Figure size 1080x576 with 1 Axes>"
            ]
          },
          "metadata": {}
        }
      ]
    },
    {
      "cell_type": "markdown",
      "source": [
        "Berdasarkan hasil visualisasi diatas, kita dapat melihat bahwa populasi terbanyak adalah kelompok individu yang menghabiskan waktu di sosial media selama 4 jam atau lebih. "
      ],
      "metadata": {
        "id": "cYTUso9uGdaE"
      }
    },
    {
      "cell_type": "code",
      "source": [
        "plt.figure(figsize = (15,8))\n",
        "sns.countplot(data = df, x = 'Anxiety');\n",
        "plt.title('Tingkat Kecemasan', fontdict = {'fontsize':15});\n",
        "plt.xlabel('Anxiety',fontdict={'fontsize': 15});\n",
        "plt.ylabel('Total',fontdict={'fontsize': 15});"
      ],
      "metadata": {
        "colab": {
          "base_uri": "https://localhost:8080/",
          "height": 520
        },
        "id": "cvC8w9wXPvXb",
        "outputId": "2fd077db-6e28-4c55-f3a0-a8cf50458eda"
      },
      "execution_count": null,
      "outputs": [
        {
          "output_type": "display_data",
          "data": {
            "image/png": "[encoded data removed]",
            "text/plain": [
              "<Figure size 1080x576 with 1 Axes>"
            ]
          },
          "metadata": {
            "needs_background": "light"
          }
        }
      ]
    },
    {
      "cell_type": "markdown",
      "source": [
        "Berdasarkan hasil visualisasi di atas, didapatkan bahwa terdapat paling banyak individu dengan tingkat kecemasan yang ringan."
      ],
      "metadata": {
        "id": "-GiPc532RQJD"
      }
    },
    {
      "cell_type": "markdown",
      "source": [
        "# Cek Outlier"
      ],
      "metadata": {
        "id": "3nqYQGDx4H5N"
      }
    },
    {
      "cell_type": "code",
      "source": [
        "plt.figure(figsize=(10,6));\n",
        "sns.boxplot(x='Total_Points', data = df, color = 'blue')\n",
        "plt.title('Total_Points',fontdict = {'fontsize':15});"
      ],
      "metadata": {
        "colab": {
          "base_uri": "https://localhost:8080/",
          "height": 407
        },
        "id": "ghJI42LY4I2x",
        "outputId": "3311de83-fcab-4be5-8840-8d491de0ee21"
      },
      "execution_count": null,
      "outputs": [
        {
          "output_type": "display_data",
          "data": {
            "image/png": "[encoded data removed]",
            "text/plain": [
              "<Figure size 720x432 with 1 Axes>"
            ]
          },
          "metadata": {
            "needs_background": "light"
          }
        }
      ]
    },
    {
      "cell_type": "markdown",
      "source": [
        "# Data Preparation"
      ],
      "metadata": {
        "id": "Hjn0FKRHvBlQ"
      }
    },
    {
      "cell_type": "markdown",
      "source": [
        "## Cek Keunikan Data"
      ],
      "metadata": {
        "id": "-1Tj4TgdRKLY"
      }
    },
    {
      "cell_type": "code",
      "source": [
        "df['Gender'].unique()"
      ],
      "metadata": {
        "colab": {
          "base_uri": "https://localhost:8080/"
        },
        "id": "YLhFQtFMw9A1",
        "outputId": "c4798809-a2d6-4ee5-a62f-a6f488601b05"
      },
      "execution_count": null,
      "outputs": [
        {
          "output_type": "execute_result",
          "data": {
            "text/plain": [
              "array(['Female', 'Male'], dtype=object)"
            ]
          },
          "metadata": {},
          "execution_count": 194
        }
      ]
    },
    {
      "cell_type": "code",
      "source": [
        "df['Age'].unique()"
      ],
      "metadata": {
        "colab": {
          "base_uri": "https://localhost:8080/"
        },
        "id": "9KaOCJLbuOQa",
        "outputId": "b942041a-f645-4c8a-b744-42912b15d054"
      },
      "execution_count": null,
      "outputs": [
        {
          "output_type": "execute_result",
          "data": {
            "text/plain": [
              "array(['31 - 40', '21 - 30', '20 or below'], dtype=object)"
            ]
          },
          "metadata": {},
          "execution_count": 195
        }
      ]
    },
    {
      "cell_type": "code",
      "source": [
        "df['Student'].unique()"
      ],
      "metadata": {
        "colab": {
          "base_uri": "https://localhost:8080/"
        },
        "id": "TeLBEZfFv_gE",
        "outputId": "ce104d49-2e17-4296-aa65-1a7520bd786e"
      },
      "execution_count": null,
      "outputs": [
        {
          "output_type": "execute_result",
          "data": {
            "text/plain": [
              "array(['No', 'Yes'], dtype=object)"
            ]
          },
          "metadata": {},
          "execution_count": 196
        }
      ]
    },
    {
      "cell_type": "code",
      "source": [
        "df['Marital'].unique()"
      ],
      "metadata": {
        "colab": {
          "base_uri": "https://localhost:8080/"
        },
        "id": "24_YwXvezURi",
        "outputId": "668af685-9c95-4ae3-a1d8-f99e3fdec6cc"
      },
      "execution_count": null,
      "outputs": [
        {
          "output_type": "execute_result",
          "data": {
            "text/plain": [
              "array(['Married', 'Single'], dtype=object)"
            ]
          },
          "metadata": {},
          "execution_count": 197
        }
      ]
    },
    {
      "cell_type": "code",
      "source": [
        "display(df['Q1'].unique())\n",
        "display(df['Q2'].unique())\n",
        "display(df['Q3'].unique())\n",
        "display(df['Q4'].unique())\n",
        "display(df['Q5'].unique())\n",
        "display(df['Q6'].unique())\n",
        "display(df['Q7'].unique())"
      ],
      "metadata": {
        "colab": {
          "base_uri": "https://localhost:8080/",
          "height": 173
        },
        "id": "OQohQzWN0Bg7",
        "outputId": "ac9c3c67-799e-4927-ce11-b403ab070c4b"
      },
      "execution_count": null,
      "outputs": [
        {
          "output_type": "display_data",
          "data": {
            "text/plain": [
              "array(['Less than 1 hours per day', 'Less than 2 hours per day',\n",
              "       '4 hours and above per day', 'Less than 3 hours per day',\n",
              "       'Less than 4 hours per day'], dtype=object)"
            ]
          },
          "metadata": {}
        },
        {
          "output_type": "display_data",
          "data": {
            "text/plain": [
              "array([2, 1, 3, 4, 5])"
            ]
          },
          "metadata": {}
        },
        {
          "output_type": "display_data",
          "data": {
            "text/plain": [
              "array([2, 4, 1, 5, 3])"
            ]
          },
          "metadata": {}
        },
        {
          "output_type": "display_data",
          "data": {
            "text/plain": [
              "array([2, 3, 1, 5, 4])"
            ]
          },
          "metadata": {}
        },
        {
          "output_type": "display_data",
          "data": {
            "text/plain": [
              "array([3, 2, 4, 5, 1])"
            ]
          },
          "metadata": {}
        },
        {
          "output_type": "display_data",
          "data": {
            "text/plain": [
              "array([3, 2, 4, 5, 1])"
            ]
          },
          "metadata": {}
        },
        {
          "output_type": "display_data",
          "data": {
            "text/plain": [
              "array([2, 1, 5, 4, 3])"
            ]
          },
          "metadata": {}
        }
      ]
    },
    {
      "cell_type": "code",
      "source": [
        "df['Student'].unique()"
      ],
      "metadata": {
        "colab": {
          "base_uri": "https://localhost:8080/"
        },
        "id": "2Iegwm9E5ikI",
        "outputId": "ef31adb6-e7bb-4038-c0cf-1bde5b8fce3d"
      },
      "execution_count": null,
      "outputs": [
        {
          "output_type": "execute_result",
          "data": {
            "text/plain": [
              "array(['No', 'Yes'], dtype=object)"
            ]
          },
          "metadata": {},
          "execution_count": 199
        }
      ]
    },
    {
      "cell_type": "markdown",
      "source": [
        "## Transformasi Data\n"
      ],
      "metadata": {
        "id": "MKJgQxpPRgYG"
      }
    },
    {
      "cell_type": "code",
      "source": [
        "df.head(1)"
      ],
      "metadata": {
        "colab": {
          "base_uri": "https://localhost:8080/",
          "height": 177
        },
        "id": "MuRM1ixnRj8E",
        "outputId": "c9c53dab-f3a2-4dc3-b5ac-c98c20ff1dde"
      },
      "execution_count": null,
      "outputs": [
        {
          "output_type": "execute_result",
          "data": {
            "text/html": [
              "\n",
              "  <div id=\"df-946f6d81-440c-43b5-9b0c-1fbb97a5db7d\">\n",
              "    <div class=\"colab-df-container\">\n",
              "      <div>\n",
              "<style scoped>\n",
              "    .dataframe tbody tr th:only-of-type {\n",
              "        vertical-align: middle;\n",
              "    }\n",
              "\n",
              "    .dataframe tbody tr th {\n",
              "        vertical-align: top;\n",
              "    }\n",
              "\n",
              "    .dataframe thead th {\n",
              "        text-align: right;\n",
              "    }\n",
              "</style>\n",
              "<table border=\"1\" class=\"dataframe\">\n",
              "  <thead>\n",
              "    <tr style=\"text-align: right;\">\n",
              "      <th></th>\n",
              "      <th>Timestamp</th>\n",
              "      <th>Gender</th>\n",
              "      <th>Student</th>\n",
              "      <th>Age</th>\n",
              "      <th>Marital</th>\n",
              "      <th>Q1</th>\n",
              "      <th>Q2</th>\n",
              "      <th>Q3</th>\n",
              "      <th>Q4</th>\n",
              "      <th>Q5</th>\n",
              "      <th>Q6</th>\n",
              "      <th>Q7</th>\n",
              "      <th>Q1_proc</th>\n",
              "      <th>Total_Points</th>\n",
              "      <th>Anxiety</th>\n",
              "      <th>Anxiety_num</th>\n",
              "    </tr>\n",
              "  </thead>\n",
              "  <tbody>\n",
              "    <tr>\n",
              "      <th>0</th>\n",
              "      <td>12/13/2019 8:43:19</td>\n",
              "      <td>Female</td>\n",
              "      <td>No</td>\n",
              "      <td>31 - 40</td>\n",
              "      <td>Married</td>\n",
              "      <td>Less than 1 hours per day</td>\n",
              "      <td>2</td>\n",
              "      <td>2</td>\n",
              "      <td>2</td>\n",
              "      <td>3</td>\n",
              "      <td>3</td>\n",
              "      <td>2</td>\n",
              "      <td>1</td>\n",
              "      <td>15</td>\n",
              "      <td>None</td>\n",
              "      <td>0</td>\n",
              "    </tr>\n",
              "  </tbody>\n",
              "</table>\n",
              "</div>\n",
              "      <button class=\"colab-df-convert\" onclick=\"convertToInteractive('df-946f6d81-440c-43b5-9b0c-1fbb97a5db7d')\"\n",
              "              title=\"Convert this dataframe to an interactive table.\"\n",
              "              style=\"display:none;\">\n",
              "        \n",
              "  <svg xmlns=\"http://www.w3.org/2000/svg\" height=\"24px\"viewBox=\"0 0 24 24\"\n",
              "       width=\"24px\">\n",
              "    <path d=\"M0 0h24v24H0V0z\" fill=\"none\"/>\n",
              "    <path d=\"M18.56 5.44l.94 2.06.94-2.06 2.06-.94-2.06-.94-.94-2.06-.94 2.06-2.06.94zm-11 1L8.5 8.5l.94-2.06 2.06-.94-2.06-.94L8.5 2.5l-.94 2.06-2.06.94zm10 10l.94 2.06.94-2.06 2.06-.94-2.06-.94-.94-2.06-.94 2.06-2.06.94z\"/><path d=\"M17.41 7.96l-1.37-1.37c-.4-.4-.92-.59-1.43-.59-.52 0-1.04.2-1.43.59L10.3 9.45l-7.72 7.72c-.78.78-.78 2.05 0 2.83L4 21.41c.39.39.9.59 1.41.59.51 0 1.02-.2 1.41-.59l7.78-7.78 2.81-2.81c.8-.78.8-2.07 0-2.86zM5.41 20L4 18.59l7.72-7.72 1.47 1.35L5.41 20z\"/>\n",
              "  </svg>\n",
              "      </button>\n",
              "      \n",
              "  <style>\n",
              "    .colab-df-container {\n",
              "      display:flex;\n",
              "      flex-wrap:wrap;\n",
              "      gap: 12px;\n",
              "    }\n",
              "\n",
              "    .colab-df-convert {\n",
              "      background-color: #E8F0FE;\n",
              "      border: none;\n",
              "      border-radius: 50%;\n",
              "      cursor: pointer;\n",
              "      display: none;\n",
              "      fill: #1967D2;\n",
              "      height: 32px;\n",
              "      padding: 0 0 0 0;\n",
              "      width: 32px;\n",
              "    }\n",
              "\n",
              "    .colab-df-convert:hover {\n",
              "      background-color: #E2EBFA;\n",
              "      box-shadow: 0px 1px 2px rgba(60, 64, 67, 0.3), 0px 1px 3px 1px rgba(60, 64, 67, 0.15);\n",
              "      fill: #174EA6;\n",
              "    }\n",
              "\n",
              "    [theme=dark] .colab-df-convert {\n",
              "      background-color: #3B4455;\n",
              "      fill: #D2E3FC;\n",
              "    }\n",
              "\n",
              "    [theme=dark] .colab-df-convert:hover {\n",
              "      background-color: #434B5C;\n",
              "      box-shadow: 0px 1px 3px 1px rgba(0, 0, 0, 0.15);\n",
              "      filter: drop-shadow(0px 1px 2px rgba(0, 0, 0, 0.3));\n",
              "      fill: #FFFFFF;\n",
              "    }\n",
              "  </style>\n",
              "\n",
              "      <script>\n",
              "        const buttonEl =\n",
              "          document.querySelector('#df-946f6d81-440c-43b5-9b0c-1fbb97a5db7d button.colab-df-convert');\n",
              "        buttonEl.style.display =\n",
              "          google.colab.kernel.accessAllowed ? 'block' : 'none';\n",
              "\n",
              "        async function convertToInteractive(key) {\n",
              "          const element = document.querySelector('#df-946f6d81-440c-43b5-9b0c-1fbb97a5db7d');\n",
              "          const dataTable =\n",
              "            await google.colab.kernel.invokeFunction('convertToInteractive',\n",
              "                                                     [key], {});\n",
              "          if (!dataTable) return;\n",
              "\n",
              "          const docLinkHtml = 'Like what you see? Visit the ' +\n",
              "            '<a target=\"_blank\" href=https://colab.research.google.com/notebooks/data_table.ipynb>data table notebook</a>'\n",
              "            + ' to learn more about interactive tables.';\n",
              "          element.innerHTML = '';\n",
              "          dataTable['output_type'] = 'display_data';\n",
              "          await google.colab.output.renderOutput(dataTable, element);\n",
              "          const docLink = document.createElement('div');\n",
              "          docLink.innerHTML = docLinkHtml;\n",
              "          element.appendChild(docLink);\n",
              "        }\n",
              "      </script>\n",
              "    </div>\n",
              "  </div>\n",
              "  "
            ],
            "text/plain": [
              "            Timestamp  Gender Student  ... Total_Points Anxiety Anxiety_num\n",
              "0  12/13/2019 8:43:19  Female      No  ...           15    None           0\n",
              "\n",
              "[1 rows x 16 columns]"
            ]
          },
          "metadata": {},
          "execution_count": 200
        }
      ]
    },
    {
      "cell_type": "code",
      "source": [
        "def gen(gen):\n",
        "  if gen == 'Male':\n",
        "    return 0\n",
        "  else :\n",
        "    return 1\n",
        "\n",
        "def stud(student):\n",
        "  if student == 'No':\n",
        "    return 0\n",
        "  else :\n",
        "    return 1\n",
        "\n",
        "def age(age):\n",
        "  if age == '20 or below':\n",
        "    return 0\n",
        "  elif age == '21-30':\n",
        "    return 1\n",
        "  else :\n",
        "    return 2\n",
        "\n",
        "def mar(marital):\n",
        "  if marital == 'Single':\n",
        "    return 0\n",
        "  else :\n",
        "    return 1"
      ],
      "metadata": {
        "id": "O285_4rC5kKi"
      },
      "execution_count": null,
      "outputs": []
    },
    {
      "cell_type": "code",
      "source": [
        "df['gen_num'] = df.Gender.apply(gen)\n",
        "df['student_num'] = df.Student.apply(stud)\n",
        "df['age_num'] = df.Age.apply(age)\n",
        "df['marital_num'] = df.Marital.apply(mar)"
      ],
      "metadata": {
        "id": "txX1wDM_SCTK"
      },
      "execution_count": null,
      "outputs": []
    },
    {
      "cell_type": "code",
      "source": [
        "df"
      ],
      "metadata": {
        "colab": {
          "base_uri": "https://localhost:8080/",
          "height": 1000
        },
        "id": "nXkErMPcSOxq",
        "outputId": "b725eb4c-098e-4dc8-ddf6-6b55f0cc0cb1"
      },
      "execution_count": null,
      "outputs": [
        {
          "output_type": "execute_result",
          "data": {
            "text/html": [
              "\n",
              "  <div id=\"df-3fca09ff-434d-4d6e-8c7c-e16c0c1b7007\">\n",
              "    <div class=\"colab-df-container\">\n",
              "      <div>\n",
              "<style scoped>\n",
              "    .dataframe tbody tr th:only-of-type {\n",
              "        vertical-align: middle;\n",
              "    }\n",
              "\n",
              "    .dataframe tbody tr th {\n",
              "        vertical-align: top;\n",
              "    }\n",
              "\n",
              "    .dataframe thead th {\n",
              "        text-align: right;\n",
              "    }\n",
              "</style>\n",
              "<table border=\"1\" class=\"dataframe\">\n",
              "  <thead>\n",
              "    <tr style=\"text-align: right;\">\n",
              "      <th></th>\n",
              "      <th>Timestamp</th>\n",
              "      <th>Gender</th>\n",
              "      <th>Student</th>\n",
              "      <th>Age</th>\n",
              "      <th>Marital</th>\n",
              "      <th>Q1</th>\n",
              "      <th>Q2</th>\n",
              "      <th>Q3</th>\n",
              "      <th>Q4</th>\n",
              "      <th>Q5</th>\n",
              "      <th>Q6</th>\n",
              "      <th>Q7</th>\n",
              "      <th>Q1_proc</th>\n",
              "      <th>Total_Points</th>\n",
              "      <th>Anxiety</th>\n",
              "      <th>Anxiety_num</th>\n",
              "      <th>gen_num</th>\n",
              "      <th>student_num</th>\n",
              "      <th>age_num</th>\n",
              "      <th>marital_num</th>\n",
              "    </tr>\n",
              "  </thead>\n",
              "  <tbody>\n",
              "    <tr>\n",
              "      <th>0</th>\n",
              "      <td>12/13/2019 8:43:19</td>\n",
              "      <td>Female</td>\n",
              "      <td>No</td>\n",
              "      <td>31 - 40</td>\n",
              "      <td>Married</td>\n",
              "      <td>Less than 1 hours per day</td>\n",
              "      <td>2</td>\n",
              "      <td>2</td>\n",
              "      <td>2</td>\n",
              "      <td>3</td>\n",
              "      <td>3</td>\n",
              "      <td>2</td>\n",
              "      <td>1</td>\n",
              "      <td>15</td>\n",
              "      <td>None</td>\n",
              "      <td>0</td>\n",
              "      <td>1</td>\n",
              "      <td>0</td>\n",
              "      <td>2</td>\n",
              "      <td>1</td>\n",
              "    </tr>\n",
              "    <tr>\n",
              "      <th>1</th>\n",
              "      <td>12/12/2019 21:52</td>\n",
              "      <td>Female</td>\n",
              "      <td>Yes</td>\n",
              "      <td>31 - 40</td>\n",
              "      <td>Married</td>\n",
              "      <td>Less than 2 hours per day</td>\n",
              "      <td>2</td>\n",
              "      <td>4</td>\n",
              "      <td>3</td>\n",
              "      <td>3</td>\n",
              "      <td>2</td>\n",
              "      <td>1</td>\n",
              "      <td>2</td>\n",
              "      <td>17</td>\n",
              "      <td>None</td>\n",
              "      <td>0</td>\n",
              "      <td>1</td>\n",
              "      <td>1</td>\n",
              "      <td>2</td>\n",
              "      <td>1</td>\n",
              "    </tr>\n",
              "    <tr>\n",
              "      <th>2</th>\n",
              "      <td>1/1/2020 16:15</td>\n",
              "      <td>Female</td>\n",
              "      <td>Yes</td>\n",
              "      <td>21 - 30</td>\n",
              "      <td>Married</td>\n",
              "      <td>Less than 1 hours per day</td>\n",
              "      <td>2</td>\n",
              "      <td>2</td>\n",
              "      <td>2</td>\n",
              "      <td>2</td>\n",
              "      <td>4</td>\n",
              "      <td>5</td>\n",
              "      <td>1</td>\n",
              "      <td>18</td>\n",
              "      <td>None</td>\n",
              "      <td>0</td>\n",
              "      <td>1</td>\n",
              "      <td>1</td>\n",
              "      <td>2</td>\n",
              "      <td>1</td>\n",
              "    </tr>\n",
              "    <tr>\n",
              "      <th>3</th>\n",
              "      <td>12/31/2019 21:23:06</td>\n",
              "      <td>Female</td>\n",
              "      <td>Yes</td>\n",
              "      <td>21 - 30</td>\n",
              "      <td>Single</td>\n",
              "      <td>4 hours and above per day</td>\n",
              "      <td>1</td>\n",
              "      <td>1</td>\n",
              "      <td>1</td>\n",
              "      <td>4</td>\n",
              "      <td>5</td>\n",
              "      <td>1</td>\n",
              "      <td>5</td>\n",
              "      <td>18</td>\n",
              "      <td>None</td>\n",
              "      <td>0</td>\n",
              "      <td>1</td>\n",
              "      <td>1</td>\n",
              "      <td>2</td>\n",
              "      <td>0</td>\n",
              "    </tr>\n",
              "    <tr>\n",
              "      <th>4</th>\n",
              "      <td>12/14/2019 21:47:44</td>\n",
              "      <td>Male</td>\n",
              "      <td>No</td>\n",
              "      <td>21 - 30</td>\n",
              "      <td>Single</td>\n",
              "      <td>Less than 2 hours per day</td>\n",
              "      <td>3</td>\n",
              "      <td>4</td>\n",
              "      <td>3</td>\n",
              "      <td>2</td>\n",
              "      <td>2</td>\n",
              "      <td>2</td>\n",
              "      <td>2</td>\n",
              "      <td>18</td>\n",
              "      <td>None</td>\n",
              "      <td>0</td>\n",
              "      <td>0</td>\n",
              "      <td>0</td>\n",
              "      <td>2</td>\n",
              "      <td>0</td>\n",
              "    </tr>\n",
              "    <tr>\n",
              "      <th>...</th>\n",
              "      <td>...</td>\n",
              "      <td>...</td>\n",
              "      <td>...</td>\n",
              "      <td>...</td>\n",
              "      <td>...</td>\n",
              "      <td>...</td>\n",
              "      <td>...</td>\n",
              "      <td>...</td>\n",
              "      <td>...</td>\n",
              "      <td>...</td>\n",
              "      <td>...</td>\n",
              "      <td>...</td>\n",
              "      <td>...</td>\n",
              "      <td>...</td>\n",
              "      <td>...</td>\n",
              "      <td>...</td>\n",
              "      <td>...</td>\n",
              "      <td>...</td>\n",
              "      <td>...</td>\n",
              "      <td>...</td>\n",
              "    </tr>\n",
              "    <tr>\n",
              "      <th>61</th>\n",
              "      <td>12/19/2019 14:01:37</td>\n",
              "      <td>Female</td>\n",
              "      <td>Yes</td>\n",
              "      <td>21 - 30</td>\n",
              "      <td>Single</td>\n",
              "      <td>4 hours and above per day</td>\n",
              "      <td>3</td>\n",
              "      <td>5</td>\n",
              "      <td>5</td>\n",
              "      <td>5</td>\n",
              "      <td>4</td>\n",
              "      <td>4</td>\n",
              "      <td>5</td>\n",
              "      <td>31</td>\n",
              "      <td>High</td>\n",
              "      <td>2</td>\n",
              "      <td>1</td>\n",
              "      <td>1</td>\n",
              "      <td>2</td>\n",
              "      <td>0</td>\n",
              "    </tr>\n",
              "    <tr>\n",
              "      <th>62</th>\n",
              "      <td>12/12/2019 22:36</td>\n",
              "      <td>Male</td>\n",
              "      <td>No</td>\n",
              "      <td>21 - 30</td>\n",
              "      <td>Single</td>\n",
              "      <td>4 hours and above per day</td>\n",
              "      <td>5</td>\n",
              "      <td>5</td>\n",
              "      <td>5</td>\n",
              "      <td>4</td>\n",
              "      <td>4</td>\n",
              "      <td>4</td>\n",
              "      <td>5</td>\n",
              "      <td>32</td>\n",
              "      <td>High</td>\n",
              "      <td>2</td>\n",
              "      <td>0</td>\n",
              "      <td>0</td>\n",
              "      <td>2</td>\n",
              "      <td>0</td>\n",
              "    </tr>\n",
              "    <tr>\n",
              "      <th>63</th>\n",
              "      <td>12/20/2019 22:35:50</td>\n",
              "      <td>Female</td>\n",
              "      <td>Yes</td>\n",
              "      <td>20 or below</td>\n",
              "      <td>Single</td>\n",
              "      <td>4 hours and above per day</td>\n",
              "      <td>4</td>\n",
              "      <td>4</td>\n",
              "      <td>4</td>\n",
              "      <td>5</td>\n",
              "      <td>5</td>\n",
              "      <td>5</td>\n",
              "      <td>5</td>\n",
              "      <td>32</td>\n",
              "      <td>High</td>\n",
              "      <td>2</td>\n",
              "      <td>1</td>\n",
              "      <td>1</td>\n",
              "      <td>0</td>\n",
              "      <td>0</td>\n",
              "    </tr>\n",
              "    <tr>\n",
              "      <th>64</th>\n",
              "      <td>12/22/2019 15:43:22</td>\n",
              "      <td>Female</td>\n",
              "      <td>No</td>\n",
              "      <td>21 - 30</td>\n",
              "      <td>Married</td>\n",
              "      <td>4 hours and above per day</td>\n",
              "      <td>5</td>\n",
              "      <td>5</td>\n",
              "      <td>5</td>\n",
              "      <td>5</td>\n",
              "      <td>5</td>\n",
              "      <td>3</td>\n",
              "      <td>5</td>\n",
              "      <td>33</td>\n",
              "      <td>High</td>\n",
              "      <td>2</td>\n",
              "      <td>1</td>\n",
              "      <td>0</td>\n",
              "      <td>2</td>\n",
              "      <td>1</td>\n",
              "    </tr>\n",
              "    <tr>\n",
              "      <th>65</th>\n",
              "      <td>12/28/2019 0:24:46</td>\n",
              "      <td>Male</td>\n",
              "      <td>Yes</td>\n",
              "      <td>21 - 30</td>\n",
              "      <td>Single</td>\n",
              "      <td>Less than 3 hours per day</td>\n",
              "      <td>5</td>\n",
              "      <td>5</td>\n",
              "      <td>5</td>\n",
              "      <td>5</td>\n",
              "      <td>5</td>\n",
              "      <td>5</td>\n",
              "      <td>3</td>\n",
              "      <td>33</td>\n",
              "      <td>High</td>\n",
              "      <td>2</td>\n",
              "      <td>0</td>\n",
              "      <td>1</td>\n",
              "      <td>2</td>\n",
              "      <td>0</td>\n",
              "    </tr>\n",
              "  </tbody>\n",
              "</table>\n",
              "<p>66 rows × 20 columns</p>\n",
              "</div>\n",
              "      <button class=\"colab-df-convert\" onclick=\"convertToInteractive('df-3fca09ff-434d-4d6e-8c7c-e16c0c1b7007')\"\n",
              "              title=\"Convert this dataframe to an interactive table.\"\n",
              "              style=\"display:none;\">\n",
              "        \n",
              "  <svg xmlns=\"http://www.w3.org/2000/svg\" height=\"24px\"viewBox=\"0 0 24 24\"\n",
              "       width=\"24px\">\n",
              "    <path d=\"M0 0h24v24H0V0z\" fill=\"none\"/>\n",
              "    <path d=\"M18.56 5.44l.94 2.06.94-2.06 2.06-.94-2.06-.94-.94-2.06-.94 2.06-2.06.94zm-11 1L8.5 8.5l.94-2.06 2.06-.94-2.06-.94L8.5 2.5l-.94 2.06-2.06.94zm10 10l.94 2.06.94-2.06 2.06-.94-2.06-.94-.94-2.06-.94 2.06-2.06.94z\"/><path d=\"M17.41 7.96l-1.37-1.37c-.4-.4-.92-.59-1.43-.59-.52 0-1.04.2-1.43.59L10.3 9.45l-7.72 7.72c-.78.78-.78 2.05 0 2.83L4 21.41c.39.39.9.59 1.41.59.51 0 1.02-.2 1.41-.59l7.78-7.78 2.81-2.81c.8-.78.8-2.07 0-2.86zM5.41 20L4 18.59l7.72-7.72 1.47 1.35L5.41 20z\"/>\n",
              "  </svg>\n",
              "      </button>\n",
              "      \n",
              "  <style>\n",
              "    .colab-df-container {\n",
              "      display:flex;\n",
              "      flex-wrap:wrap;\n",
              "      gap: 12px;\n",
              "    }\n",
              "\n",
              "    .colab-df-convert {\n",
              "      background-color: #E8F0FE;\n",
              "      border: none;\n",
              "      border-radius: 50%;\n",
              "      cursor: pointer;\n",
              "      display: none;\n",
              "      fill: #1967D2;\n",
              "      height: 32px;\n",
              "      padding: 0 0 0 0;\n",
              "      width: 32px;\n",
              "    }\n",
              "\n",
              "    .colab-df-convert:hover {\n",
              "      background-color: #E2EBFA;\n",
              "      box-shadow: 0px 1px 2px rgba(60, 64, 67, 0.3), 0px 1px 3px 1px rgba(60, 64, 67, 0.15);\n",
              "      fill: #174EA6;\n",
              "    }\n",
              "\n",
              "    [theme=dark] .colab-df-convert {\n",
              "      background-color: #3B4455;\n",
              "      fill: #D2E3FC;\n",
              "    }\n",
              "\n",
              "    [theme=dark] .colab-df-convert:hover {\n",
              "      background-color: #434B5C;\n",
              "      box-shadow: 0px 1px 3px 1px rgba(0, 0, 0, 0.15);\n",
              "      filter: drop-shadow(0px 1px 2px rgba(0, 0, 0, 0.3));\n",
              "      fill: #FFFFFF;\n",
              "    }\n",
              "  </style>\n",
              "\n",
              "      <script>\n",
              "        const buttonEl =\n",
              "          document.querySelector('#df-3fca09ff-434d-4d6e-8c7c-e16c0c1b7007 button.colab-df-convert');\n",
              "        buttonEl.style.display =\n",
              "          google.colab.kernel.accessAllowed ? 'block' : 'none';\n",
              "\n",
              "        async function convertToInteractive(key) {\n",
              "          const element = document.querySelector('#df-3fca09ff-434d-4d6e-8c7c-e16c0c1b7007');\n",
              "          const dataTable =\n",
              "            await google.colab.kernel.invokeFunction('convertToInteractive',\n",
              "                                                     [key], {});\n",
              "          if (!dataTable) return;\n",
              "\n",
              "          const docLinkHtml = 'Like what you see? Visit the ' +\n",
              "            '<a target=\"_blank\" href=https://colab.research.google.com/notebooks/data_table.ipynb>data table notebook</a>'\n",
              "            + ' to learn more about interactive tables.';\n",
              "          element.innerHTML = '';\n",
              "          dataTable['output_type'] = 'display_data';\n",
              "          await google.colab.output.renderOutput(dataTable, element);\n",
              "          const docLink = document.createElement('div');\n",
              "          docLink.innerHTML = docLinkHtml;\n",
              "          element.appendChild(docLink);\n",
              "        }\n",
              "      </script>\n",
              "    </div>\n",
              "  </div>\n",
              "  "
            ],
            "text/plain": [
              "              Timestamp  Gender Student  ... student_num age_num marital_num\n",
              "0    12/13/2019 8:43:19  Female      No  ...           0       2           1\n",
              "1      12/12/2019 21:52  Female     Yes  ...           1       2           1\n",
              "2        1/1/2020 16:15  Female     Yes  ...           1       2           1\n",
              "3   12/31/2019 21:23:06  Female     Yes  ...           1       2           0\n",
              "4   12/14/2019 21:47:44    Male      No  ...           0       2           0\n",
              "..                  ...     ...     ...  ...         ...     ...         ...\n",
              "61  12/19/2019 14:01:37  Female     Yes  ...           1       2           0\n",
              "62     12/12/2019 22:36    Male      No  ...           0       2           0\n",
              "63  12/20/2019 22:35:50  Female     Yes  ...           1       0           0\n",
              "64  12/22/2019 15:43:22  Female      No  ...           0       2           1\n",
              "65   12/28/2019 0:24:46    Male     Yes  ...           1       2           0\n",
              "\n",
              "[66 rows x 20 columns]"
            ]
          },
          "metadata": {},
          "execution_count": 203
        }
      ]
    },
    {
      "cell_type": "markdown",
      "source": [
        "## Cek Korelasi"
      ],
      "metadata": {
        "id": "vGoW3jCPSfVg"
      }
    },
    {
      "cell_type": "code",
      "source": [
        "plt.figure(figsize=(20,15))\n",
        "sns.heatmap(df.corr(),cmap='viridis_r', annot = True, linecolor = 'black', linewidth = 3);"
      ],
      "metadata": {
        "colab": {
          "base_uri": "https://localhost:8080/",
          "height": 780
        },
        "id": "_UodP1N3SP2t",
        "outputId": "b14708ec-1e72-4575-a446-e43f0208c2b8"
      },
      "execution_count": null,
      "outputs": [
        {
          "output_type": "display_data",
          "data": {
            "image/png": "[encoded data removed]",
            "text/plain": [
              "<Figure size 1440x1080 with 2 Axes>"
            ]
          },
          "metadata": {
            "needs_background": "light"
          }
        }
      ]
    },
    {
      "cell_type": "code",
      "source": [
        "df.corr()['Anxiety_num'].sort_values(ascending=False)"
      ],
      "metadata": {
        "colab": {
          "base_uri": "https://localhost:8080/"
        },
        "id": "eYMVkWqkTAur",
        "outputId": "7d326d31-951c-4a5f-ddc3-8e9543b8ec8c"
      },
      "execution_count": null,
      "outputs": [
        {
          "output_type": "execute_result",
          "data": {
            "text/plain": [
              "Anxiety_num     1.000000\n",
              "Total_Points    0.914993\n",
              "Q7              0.578509\n",
              "Q4              0.529598\n",
              "Q2              0.512363\n",
              "Q3              0.477913\n",
              "Q1_proc         0.461668\n",
              "Q5              0.445336\n",
              "Q6              0.385474\n",
              "gen_num         0.112941\n",
              "student_num     0.028352\n",
              "age_num        -0.155883\n",
              "marital_num    -0.317723\n",
              "Name: Anxiety_num, dtype: float64"
            ]
          },
          "metadata": {},
          "execution_count": 205
        }
      ]
    },
    {
      "cell_type": "markdown",
      "source": [
        "Berdasarkan korelasi terhadap kolom Anxiety di atas, dapat dilihat bahwa kolom Q1,Q2,Q3,Q4,Q5,Q6,Q7, dan Total_Points memiliki korelasi yang cukup tinggi terhadap kolom Anxiety_num. Berbeda dengan kolom gen_num, student_num, age_num dan marital_num, yang dimana keempat kolom tersebut memiliki relasi yang rendah terhadap kolom Anxiety_num."
      ],
      "metadata": {
        "id": "4vAZhwZdT8JY"
      }
    },
    {
      "cell_type": "markdown",
      "source": [
        "## Subset Data\n",
        "\n",
        "Disini, kolom-kolom yang memiliki korelasi tinggi terhadap Anxiety_num akan diambil sebagai input untuk model nanti. Oleh karena itu, kolom-kolom tersebut akan diambil dan dimasukkan ke dataframe baru."
      ],
      "metadata": {
        "id": "qAzzsd9QUZ8d"
      }
    },
    {
      "cell_type": "code",
      "source": [
        "data_processed = df[['Q1_proc','Q2','Q3','Q4','Q5','Q6','Q7','Total_Points','Anxiety_num']]\n",
        "data_processed.columns = ['Q1','Q2','Q3','Q4','Q5','Q6','Q7','Total_Points','Anxiety']\n",
        "data_processed.head(10)"
      ],
      "metadata": {
        "colab": {
          "base_uri": "https://localhost:8080/",
          "height": 363
        },
        "id": "5kAOhW0LTzfT",
        "outputId": "2ff42a0c-0b93-457d-ebe4-2326095786ec"
      },
      "execution_count": null,
      "outputs": [
        {
          "output_type": "execute_result",
          "data": {
            "text/html": [
              "\n",
              "  <div id=\"df-d5e3f695-c755-4084-9e5f-55f500d90943\">\n",
              "    <div class=\"colab-df-container\">\n",
              "      <div>\n",
              "<style scoped>\n",
              "    .dataframe tbody tr th:only-of-type {\n",
              "        vertical-align: middle;\n",
              "    }\n",
              "\n",
              "    .dataframe tbody tr th {\n",
              "        vertical-align: top;\n",
              "    }\n",
              "\n",
              "    .dataframe thead th {\n",
              "        text-align: right;\n",
              "    }\n",
              "</style>\n",
              "<table border=\"1\" class=\"dataframe\">\n",
              "  <thead>\n",
              "    <tr style=\"text-align: right;\">\n",
              "      <th></th>\n",
              "      <th>Q1</th>\n",
              "      <th>Q2</th>\n",
              "      <th>Q3</th>\n",
              "      <th>Q4</th>\n",
              "      <th>Q5</th>\n",
              "      <th>Q6</th>\n",
              "      <th>Q7</th>\n",
              "      <th>Total_Points</th>\n",
              "      <th>Anxiety</th>\n",
              "    </tr>\n",
              "  </thead>\n",
              "  <tbody>\n",
              "    <tr>\n",
              "      <th>0</th>\n",
              "      <td>1</td>\n",
              "      <td>2</td>\n",
              "      <td>2</td>\n",
              "      <td>2</td>\n",
              "      <td>3</td>\n",
              "      <td>3</td>\n",
              "      <td>2</td>\n",
              "      <td>15</td>\n",
              "      <td>0</td>\n",
              "    </tr>\n",
              "    <tr>\n",
              "      <th>1</th>\n",
              "      <td>2</td>\n",
              "      <td>2</td>\n",
              "      <td>4</td>\n",
              "      <td>3</td>\n",
              "      <td>3</td>\n",
              "      <td>2</td>\n",
              "      <td>1</td>\n",
              "      <td>17</td>\n",
              "      <td>0</td>\n",
              "    </tr>\n",
              "    <tr>\n",
              "      <th>2</th>\n",
              "      <td>1</td>\n",
              "      <td>2</td>\n",
              "      <td>2</td>\n",
              "      <td>2</td>\n",
              "      <td>2</td>\n",
              "      <td>4</td>\n",
              "      <td>5</td>\n",
              "      <td>18</td>\n",
              "      <td>0</td>\n",
              "    </tr>\n",
              "    <tr>\n",
              "      <th>3</th>\n",
              "      <td>5</td>\n",
              "      <td>1</td>\n",
              "      <td>1</td>\n",
              "      <td>1</td>\n",
              "      <td>4</td>\n",
              "      <td>5</td>\n",
              "      <td>1</td>\n",
              "      <td>18</td>\n",
              "      <td>0</td>\n",
              "    </tr>\n",
              "    <tr>\n",
              "      <th>4</th>\n",
              "      <td>2</td>\n",
              "      <td>3</td>\n",
              "      <td>4</td>\n",
              "      <td>3</td>\n",
              "      <td>2</td>\n",
              "      <td>2</td>\n",
              "      <td>2</td>\n",
              "      <td>18</td>\n",
              "      <td>0</td>\n",
              "    </tr>\n",
              "    <tr>\n",
              "      <th>5</th>\n",
              "      <td>1</td>\n",
              "      <td>4</td>\n",
              "      <td>4</td>\n",
              "      <td>3</td>\n",
              "      <td>3</td>\n",
              "      <td>3</td>\n",
              "      <td>1</td>\n",
              "      <td>19</td>\n",
              "      <td>0</td>\n",
              "    </tr>\n",
              "    <tr>\n",
              "      <th>6</th>\n",
              "      <td>2</td>\n",
              "      <td>2</td>\n",
              "      <td>5</td>\n",
              "      <td>2</td>\n",
              "      <td>3</td>\n",
              "      <td>3</td>\n",
              "      <td>2</td>\n",
              "      <td>19</td>\n",
              "      <td>0</td>\n",
              "    </tr>\n",
              "    <tr>\n",
              "      <th>7</th>\n",
              "      <td>1</td>\n",
              "      <td>3</td>\n",
              "      <td>3</td>\n",
              "      <td>1</td>\n",
              "      <td>5</td>\n",
              "      <td>5</td>\n",
              "      <td>1</td>\n",
              "      <td>19</td>\n",
              "      <td>0</td>\n",
              "    </tr>\n",
              "    <tr>\n",
              "      <th>8</th>\n",
              "      <td>3</td>\n",
              "      <td>3</td>\n",
              "      <td>1</td>\n",
              "      <td>3</td>\n",
              "      <td>4</td>\n",
              "      <td>4</td>\n",
              "      <td>1</td>\n",
              "      <td>19</td>\n",
              "      <td>0</td>\n",
              "    </tr>\n",
              "    <tr>\n",
              "      <th>9</th>\n",
              "      <td>3</td>\n",
              "      <td>3</td>\n",
              "      <td>3</td>\n",
              "      <td>2</td>\n",
              "      <td>2</td>\n",
              "      <td>4</td>\n",
              "      <td>2</td>\n",
              "      <td>19</td>\n",
              "      <td>0</td>\n",
              "    </tr>\n",
              "  </tbody>\n",
              "</table>\n",
              "</div>\n",
              "      <button class=\"colab-df-convert\" onclick=\"convertToInteractive('df-d5e3f695-c755-4084-9e5f-55f500d90943')\"\n",
              "              title=\"Convert this dataframe to an interactive table.\"\n",
              "              style=\"display:none;\">\n",
              "        \n",
              "  <svg xmlns=\"http://www.w3.org/2000/svg\" height=\"24px\"viewBox=\"0 0 24 24\"\n",
              "       width=\"24px\">\n",
              "    <path d=\"M0 0h24v24H0V0z\" fill=\"none\"/>\n",
              "    <path d=\"M18.56 5.44l.94 2.06.94-2.06 2.06-.94-2.06-.94-.94-2.06-.94 2.06-2.06.94zm-11 1L8.5 8.5l.94-2.06 2.06-.94-2.06-.94L8.5 2.5l-.94 2.06-2.06.94zm10 10l.94 2.06.94-2.06 2.06-.94-2.06-.94-.94-2.06-.94 2.06-2.06.94z\"/><path d=\"M17.41 7.96l-1.37-1.37c-.4-.4-.92-.59-1.43-.59-.52 0-1.04.2-1.43.59L10.3 9.45l-7.72 7.72c-.78.78-.78 2.05 0 2.83L4 21.41c.39.39.9.59 1.41.59.51 0 1.02-.2 1.41-.59l7.78-7.78 2.81-2.81c.8-.78.8-2.07 0-2.86zM5.41 20L4 18.59l7.72-7.72 1.47 1.35L5.41 20z\"/>\n",
              "  </svg>\n",
              "      </button>\n",
              "      \n",
              "  <style>\n",
              "    .colab-df-container {\n",
              "      display:flex;\n",
              "      flex-wrap:wrap;\n",
              "      gap: 12px;\n",
              "    }\n",
              "\n",
              "    .colab-df-convert {\n",
              "      background-color: #E8F0FE;\n",
              "      border: none;\n",
              "      border-radius: 50%;\n",
              "      cursor: pointer;\n",
              "      display: none;\n",
              "      fill: #1967D2;\n",
              "      height: 32px;\n",
              "      padding: 0 0 0 0;\n",
              "      width: 32px;\n",
              "    }\n",
              "\n",
              "    .colab-df-convert:hover {\n",
              "      background-color: #E2EBFA;\n",
              "      box-shadow: 0px 1px 2px rgba(60, 64, 67, 0.3), 0px 1px 3px 1px rgba(60, 64, 67, 0.15);\n",
              "      fill: #174EA6;\n",
              "    }\n",
              "\n",
              "    [theme=dark] .colab-df-convert {\n",
              "      background-color: #3B4455;\n",
              "      fill: #D2E3FC;\n",
              "    }\n",
              "\n",
              "    [theme=dark] .colab-df-convert:hover {\n",
              "      background-color: #434B5C;\n",
              "      box-shadow: 0px 1px 3px 1px rgba(0, 0, 0, 0.15);\n",
              "      filter: drop-shadow(0px 1px 2px rgba(0, 0, 0, 0.3));\n",
              "      fill: #FFFFFF;\n",
              "    }\n",
              "  </style>\n",
              "\n",
              "      <script>\n",
              "        const buttonEl =\n",
              "          document.querySelector('#df-d5e3f695-c755-4084-9e5f-55f500d90943 button.colab-df-convert');\n",
              "        buttonEl.style.display =\n",
              "          google.colab.kernel.accessAllowed ? 'block' : 'none';\n",
              "\n",
              "        async function convertToInteractive(key) {\n",
              "          const element = document.querySelector('#df-d5e3f695-c755-4084-9e5f-55f500d90943');\n",
              "          const dataTable =\n",
              "            await google.colab.kernel.invokeFunction('convertToInteractive',\n",
              "                                                     [key], {});\n",
              "          if (!dataTable) return;\n",
              "\n",
              "          const docLinkHtml = 'Like what you see? Visit the ' +\n",
              "            '<a target=\"_blank\" href=https://colab.research.google.com/notebooks/data_table.ipynb>data table notebook</a>'\n",
              "            + ' to learn more about interactive tables.';\n",
              "          element.innerHTML = '';\n",
              "          dataTable['output_type'] = 'display_data';\n",
              "          await google.colab.output.renderOutput(dataTable, element);\n",
              "          const docLink = document.createElement('div');\n",
              "          docLink.innerHTML = docLinkHtml;\n",
              "          element.appendChild(docLink);\n",
              "        }\n",
              "      </script>\n",
              "    </div>\n",
              "  </div>\n",
              "  "
            ],
            "text/plain": [
              "   Q1  Q2  Q3  Q4  Q5  Q6  Q7  Total_Points  Anxiety\n",
              "0   1   2   2   2   3   3   2            15        0\n",
              "1   2   2   4   3   3   2   1            17        0\n",
              "2   1   2   2   2   2   4   5            18        0\n",
              "3   5   1   1   1   4   5   1            18        0\n",
              "4   2   3   4   3   2   2   2            18        0\n",
              "5   1   4   4   3   3   3   1            19        0\n",
              "6   2   2   5   2   3   3   2            19        0\n",
              "7   1   3   3   1   5   5   1            19        0\n",
              "8   3   3   1   3   4   4   1            19        0\n",
              "9   3   3   3   2   2   4   2            19        0"
            ]
          },
          "metadata": {},
          "execution_count": 206
        }
      ]
    },
    {
      "cell_type": "markdown",
      "source": [
        "# Data Modelling\n",
        "\n",
        "Pada kasus permamalan / pendeteksian ada atau tidaknya seseorang mengalami kecemasan, maka akan digunakan model/ algoritma klasifikasi.\n",
        "\n",
        "Pada analisis ini, akan digunakan algoritma K - Nearest Neighbour dan Support Vector Machines untuk mampu meramal apakah suatu individu dapat dikatakan tidak memiliki kecemasan (0), memiliki kecemasan ringan (1) atau \n",
        "memiliki kecemasan yang tinggi (2)."
      ],
      "metadata": {
        "id": "rV3aAeQqVzsY"
      }
    },
    {
      "cell_type": "markdown",
      "source": [
        "## 1. Buat Model"
      ],
      "metadata": {
        "id": "8gWLYwLjWLa_"
      }
    },
    {
      "cell_type": "code",
      "source": [
        "knn = KNeighborsClassifier(n_neighbors = 3, metric = 'euclidean')"
      ],
      "metadata": {
        "id": "x94o9JHNVS56"
      },
      "execution_count": null,
      "outputs": []
    },
    {
      "cell_type": "markdown",
      "source": [
        ""
      ],
      "metadata": {
        "id": "8x-9LZAOWqBC"
      }
    },
    {
      "cell_type": "markdown",
      "source": [
        "## 2. Train dan Test Split"
      ],
      "metadata": {
        "id": "aHgD-04IWciD"
      }
    },
    {
      "cell_type": "code",
      "source": [
        "X = data_processed.drop('Anxiety',axis=1)\n",
        "y = data_processed[['Anxiety']]"
      ],
      "metadata": {
        "id": "Uqil2BBeWa-U"
      },
      "execution_count": null,
      "outputs": []
    },
    {
      "cell_type": "code",
      "source": [
        "X_train, X_test, y_train, y_test = train_test_split(X, y, test_size=0.2, random_state=12345)\n",
        "print(X_train.shape, X_test.shape, y_train.shape, y_test.shape)"
      ],
      "metadata": {
        "colab": {
          "base_uri": "https://localhost:8080/"
        },
        "id": "MleBFnvoWhjS",
        "outputId": "47cb8636-69e1-4af7-a9b8-d29d98543315"
      },
      "execution_count": null,
      "outputs": [
        {
          "output_type": "stream",
          "name": "stdout",
          "text": [
            "(52, 8) (14, 8) (52, 1) (14, 1)\n"
          ]
        }
      ]
    },
    {
      "cell_type": "markdown",
      "source": [
        "#KNN"
      ],
      "metadata": {
        "id": "w9lxCauZyZmi"
      }
    },
    {
      "cell_type": "markdown",
      "source": [
        "## 3. Model Fitting"
      ],
      "metadata": {
        "id": "q3sNEIdRWmij"
      }
    },
    {
      "cell_type": "code",
      "source": [
        "knn.fit(X_train,y_train)"
      ],
      "metadata": {
        "colab": {
          "base_uri": "https://localhost:8080/"
        },
        "id": "75MEp_4YWkhY",
        "outputId": "ce8ef940-864c-4693-ae65-ebacc1519ca2"
      },
      "execution_count": null,
      "outputs": [
        {
          "output_type": "stream",
          "name": "stderr",
          "text": [
            "/usr/local/lib/python3.7/dist-packages/sklearn/neighbors/_classification.py:198: DataConversionWarning: A column-vector y was passed when a 1d array was expected. Please change the shape of y to (n_samples,), for example using ravel().\n",
            "  return self._fit(X, y)\n"
          ]
        },
        {
          "output_type": "execute_result",
          "data": {
            "text/plain": [
              "KNeighborsClassifier(metric='euclidean', n_neighbors=3)"
            ]
          },
          "metadata": {},
          "execution_count": 210
        }
      ]
    },
    {
      "cell_type": "markdown",
      "source": [
        "## 4. Klasifikasi Kecemasan"
      ],
      "metadata": {
        "id": "OlUbJcs3Wrgq"
      }
    },
    {
      "cell_type": "code",
      "source": [
        "y_pred = knn.predict(X_test)\n",
        "y_pred"
      ],
      "metadata": {
        "colab": {
          "base_uri": "https://localhost:8080/"
        },
        "id": "Q32oqio2WpLa",
        "outputId": "e4376751-c586-4274-c930-8645eae1bd5a"
      },
      "execution_count": null,
      "outputs": [
        {
          "output_type": "execute_result",
          "data": {
            "text/plain": [
              "array([2, 1, 2, 1, 2, 2, 0, 1, 2, 1, 1, 0, 1, 1])"
            ]
          },
          "metadata": {},
          "execution_count": 211
        }
      ]
    },
    {
      "cell_type": "markdown",
      "source": [
        "## 5. Confusion Matrix"
      ],
      "metadata": {
        "id": "Os8MbP0iP_sr"
      }
    },
    {
      "cell_type": "code",
      "source": [
        "confusion_matrix(y_test, y_pred)"
      ],
      "metadata": {
        "colab": {
          "base_uri": "https://localhost:8080/"
        },
        "id": "CBB1yVeAPyVY",
        "outputId": "96449c97-aaf3-442a-87a2-43e64e540c1b"
      },
      "execution_count": null,
      "outputs": [
        {
          "output_type": "execute_result",
          "data": {
            "text/plain": [
              "array([[2, 0, 0],\n",
              "       [0, 7, 0],\n",
              "       [0, 0, 5]])"
            ]
          },
          "metadata": {},
          "execution_count": 212
        }
      ]
    },
    {
      "cell_type": "markdown",
      "source": [
        "## 6. Nilai akurasi, presisi, f1-score dan recall"
      ],
      "metadata": {
        "id": "hSLj8d83W96s"
      }
    },
    {
      "cell_type": "code",
      "source": [
        "print(classification_report(y_test,y_pred))"
      ],
      "metadata": {
        "colab": {
          "base_uri": "https://localhost:8080/"
        },
        "id": "_d3nDSyiW6bT",
        "outputId": "25313ea3-6fae-4552-bf41-92487ee6880f"
      },
      "execution_count": null,
      "outputs": [
        {
          "output_type": "stream",
          "name": "stdout",
          "text": [
            "              precision    recall  f1-score   support\n",
            "\n",
            "           0       1.00      1.00      1.00         2\n",
            "           1       1.00      1.00      1.00         7\n",
            "           2       1.00      1.00      1.00         5\n",
            "\n",
            "    accuracy                           1.00        14\n",
            "   macro avg       1.00      1.00      1.00        14\n",
            "weighted avg       1.00      1.00      1.00        14\n",
            "\n"
          ]
        }
      ]
    },
    {
      "cell_type": "markdown",
      "source": [
        "#SVM"
      ],
      "metadata": {
        "id": "Eglrm_T2yc0h"
      }
    },
    {
      "cell_type": "markdown",
      "source": [
        "## 3. Model Fitting"
      ],
      "metadata": {
        "id": "hok1RBQWzU5z"
      }
    },
    {
      "cell_type": "code",
      "source": [
        "#Create a svm Classifier\n",
        "clf = svm.SVC(kernel='linear') # Linear Kernel\n",
        "#Train the model using the training sets\n",
        "clf.fit(X_train, y_train)"
      ],
      "metadata": {
        "colab": {
          "base_uri": "https://localhost:8080/"
        },
        "id": "Wke2h2oly1sC",
        "outputId": "0a59dd96-2320-4c8d-9fd2-191461cac8b2"
      },
      "execution_count": null,
      "outputs": [
        {
          "output_type": "stream",
          "name": "stderr",
          "text": [
            "/usr/local/lib/python3.7/dist-packages/sklearn/utils/validation.py:985: DataConversionWarning: A column-vector y was passed when a 1d array was expected. Please change the shape of y to (n_samples, ), for example using ravel().\n",
            "  y = column_or_1d(y, warn=True)\n"
          ]
        },
        {
          "output_type": "execute_result",
          "data": {
            "text/plain": [
              "SVC(kernel='linear')"
            ]
          },
          "metadata": {},
          "execution_count": 214
        }
      ]
    },
    {
      "cell_type": "markdown",
      "source": [
        "## 4. Klasifikasi Kecemasan"
      ],
      "metadata": {
        "id": "isB7VqZgzWA4"
      }
    },
    {
      "cell_type": "code",
      "source": [
        "#Predict the response for test dataset\n",
        "y_pred2 = clf.predict(X_test)\n",
        "y_pred2"
      ],
      "metadata": {
        "colab": {
          "base_uri": "https://localhost:8080/"
        },
        "id": "CKgEpmfZy9QU",
        "outputId": "9b25f765-486f-4112-8060-5c07507bde78"
      },
      "execution_count": null,
      "outputs": [
        {
          "output_type": "execute_result",
          "data": {
            "text/plain": [
              "array([2, 1, 2, 1, 2, 2, 0, 1, 2, 2, 1, 0, 1, 1])"
            ]
          },
          "metadata": {},
          "execution_count": 215
        }
      ]
    },
    {
      "cell_type": "markdown",
      "source": [
        "## 5. Confusion Matrix"
      ],
      "metadata": {
        "id": "ionBvPDAzYQu"
      }
    },
    {
      "cell_type": "code",
      "source": [
        "confusion_matrix(y_test, y_pred)"
      ],
      "metadata": {
        "colab": {
          "base_uri": "https://localhost:8080/"
        },
        "id": "EMztFNy7zBNb",
        "outputId": "66ff3b30-77a2-44c3-fbd5-2014de51945f"
      },
      "execution_count": null,
      "outputs": [
        {
          "output_type": "execute_result",
          "data": {
            "text/plain": [
              "array([[2, 0, 0],\n",
              "       [0, 7, 0],\n",
              "       [0, 0, 5]])"
            ]
          },
          "metadata": {},
          "execution_count": 216
        }
      ]
    },
    {
      "cell_type": "markdown",
      "source": [
        "## 6. Nilai akurasi, presisi, f1-score dan recall"
      ],
      "metadata": {
        "id": "-xHqwuJnzeXV"
      }
    },
    {
      "cell_type": "code",
      "source": [
        "print(classification_report(y_test, y_pred))"
      ],
      "metadata": {
        "colab": {
          "base_uri": "https://localhost:8080/"
        },
        "id": "ob5PzUlpzFcm",
        "outputId": "f7f45cb0-9833-48ce-af8a-14f8f1d50a42"
      },
      "execution_count": null,
      "outputs": [
        {
          "output_type": "stream",
          "name": "stdout",
          "text": [
            "              precision    recall  f1-score   support\n",
            "\n",
            "           0       1.00      1.00      1.00         2\n",
            "           1       1.00      1.00      1.00         7\n",
            "           2       1.00      1.00      1.00         5\n",
            "\n",
            "    accuracy                           1.00        14\n",
            "   macro avg       1.00      1.00      1.00        14\n",
            "weighted avg       1.00      1.00      1.00        14\n",
            "\n"
          ]
        }
      ]
    },
    {
      "cell_type": "markdown",
      "source": [
        "#K-Fold Cross Validation"
      ],
      "metadata": {
        "id": "rWl1DK1zD7yt"
      }
    },
    {
      "cell_type": "markdown",
      "source": [
        "## Menghitung akurasi dengan k = 10"
      ],
      "metadata": {
        "id": "hWM2VtAuSg2w"
      }
    },
    {
      "cell_type": "code",
      "source": [
        "X = data_processed.drop('Anxiety',axis=1)\n",
        "y = data_processed[['Anxiety']]\n",
        "\n",
        "cv = KFold(n_splits=10, random_state=1, shuffle=True)\n",
        "# create model\n",
        "model = LogisticRegression()\n",
        "# evaluate model\n",
        "scores = cross_val_score(model, X, y, scoring='accuracy', cv=cv, n_jobs=-1)\n",
        "# report performance\n",
        "print('Accuracy: %.3f (%.3f)' % (mean(scores), std(scores)))"
      ],
      "metadata": {
        "id": "OyGxwj7S194C",
        "colab": {
          "base_uri": "https://localhost:8080/"
        },
        "outputId": "c34209fd-82d6-40f2-8e68-c272f77fd4b5"
      },
      "execution_count": 222,
      "outputs": [
        {
          "output_type": "stream",
          "name": "stdout",
          "text": [
            "Accuracy: 0.936 (0.079)\n"
          ]
        }
      ]
    },
    {
      "cell_type": "markdown",
      "source": [
        "## Melihat Akurasi ideal dan juga Akurasi dari k = 5 hingga k = 10"
      ],
      "metadata": {
        "id": "lgtLVsuBSkqr"
      }
    },
    {
      "cell_type": "code",
      "source": [
        "# create the dataset\n",
        "def get_dataset(n_samples=100):\n",
        "  X = data_processed.drop('Anxiety',axis=1)\n",
        "  y = data_processed[['Anxiety']]\n",
        "  return X, y\n",
        " \n",
        "# retrieve the model to be evaluate\n",
        "def get_model():\n",
        "\tmodel = LogisticRegression()\n",
        "\treturn model\n",
        " \n",
        "# evaluate the model using a given test condition\n",
        "def evaluate_model(cv):\n",
        "\t# get the dataset\n",
        "\tX, y = get_dataset()\n",
        "\t# get the model\n",
        "\tmodel = get_model()\n",
        "\t# evaluate the model\n",
        "\tscores = cross_val_score(model, X, y, scoring='accuracy', cv=cv, n_jobs=-1)\n",
        "\t# return scores\n",
        "\treturn mean(scores), scores.min(), scores.max()\n",
        " \n",
        "# calculate the ideal test condition\n",
        "ideal, _, _ = evaluate_model(LeaveOneOut())\n",
        "print('Ideal: %.3f' % ideal)\n",
        "# define folds to test\n",
        "folds = range(5,11)\n",
        "# record mean and min/max of each set of results\n",
        "means, mins, maxs = list(),list(),list()\n",
        "# evaluate each k value\n",
        "for k in folds:\n",
        "\t# define the test condition\n",
        "\tcv = KFold(n_splits=k, shuffle=True, random_state=1)\n",
        "\t# evaluate k value\n",
        "\tk_mean, k_min, k_max = evaluate_model(cv)\n",
        "\t# report performance\n",
        "\tprint('> folds=%d, accuracy=%.3f (%.3f,%.3f)' % (k, k_mean, k_min, k_max))\n",
        "\t# store mean accuracy\n",
        "\tmeans.append(k_mean)\n",
        "\t# store min and max relative to the mean\n",
        "\tmins.append(k_mean - k_min)\n",
        "\tmaxs.append(k_max - k_mean)\n",
        "# line plot of k mean values with min/max error bars\n",
        "pyplot.errorbar(folds, means, yerr=[mins, maxs], fmt='o')\n",
        "# plot the ideal case in a separate color\n",
        "pyplot.plot(folds, [ideal for _ in range(len(folds))], color='r')\n",
        "# show the plot\n",
        "pyplot.show()"
      ],
      "metadata": {
        "id": "mEA_XXxtNkML",
        "colab": {
          "base_uri": "https://localhost:8080/",
          "height": 387
        },
        "outputId": "a855f40a-7fa0-437d-d7ec-f5b0b8ce888d"
      },
      "execution_count": 221,
      "outputs": [
        {
          "output_type": "stream",
          "name": "stdout",
          "text": [
            "Ideal: 0.939\n",
            "> folds=5, accuracy=0.801 (0.231,1.000)\n",
            "> folds=6, accuracy=0.848 (0.273,1.000)\n",
            "> folds=7, accuracy=0.890 (0.444,1.000)\n",
            "> folds=8, accuracy=0.877 (0.625,1.000)\n",
            "> folds=9, accuracy=0.923 (0.571,1.000)\n",
            "> folds=10, accuracy=0.936 (0.833,1.000)\n"
          ]
        },
        {
          "output_type": "display_data",
          "data": {
            "image/png": "[encoded data removed]",
            "text/plain": [
              "<Figure size 432x288 with 1 Axes>"
            ]
          },
          "metadata": {
            "needs_background": "light"
          }
        }
      ]
    },
    {
      "cell_type": "markdown",
      "source": [
        "# Download CSV"
      ],
      "metadata": {
        "id": "fqU9XbF2EB2V"
      }
    },
    {
      "cell_type": "code",
      "source": [
        "from google.colab import files\n",
        "y_test.to_csv ('pred.csv', index = False, header=True)"
      ],
      "metadata": {
        "id": "Nz5PkGcBUOMy"
      },
      "execution_count": 223,
      "outputs": []
    }
  ]
}